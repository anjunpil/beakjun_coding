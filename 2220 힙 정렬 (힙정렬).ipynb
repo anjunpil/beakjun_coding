{
  "nbformat": 4,
  "nbformat_minor": 0,
  "metadata": {
    "colab": {
      "name": "Untitled12.ipynb",
      "provenance": [],
      "authorship_tag": "ABX9TyP+chkRINqzC7TffZUo1/O8",
      "include_colab_link": true
    },
    "kernelspec": {
      "name": "python3",
      "display_name": "Python 3"
    }
  },
  "cells": [
    {
      "cell_type": "markdown",
      "metadata": {
        "id": "view-in-github",
        "colab_type": "text"
      },
      "source": [
        "<a href=\"https://colab.research.google.com/github/anjunpil/beakjun_coding/blob/master/2220%20%ED%9E%99%20%EC%A0%95%EB%A0%AC%20(%ED%9E%99%EC%A0%95%EB%A0%AC).ipynb\" target=\"_parent\"><img src=\"https://colab.research.google.com/assets/colab-badge.svg\" alt=\"Open In Colab\"/></a>"
      ]
    },
    {
      "cell_type": "code",
      "metadata": {
        "id": "5XqixHI28-RV",
        "colab_type": "code",
        "colab": {
          "base_uri": "https://localhost:8080/",
          "height": 407
        },
        "outputId": "73fc02f6-4ee1-457c-c61b-0a09b38d4aa6"
      },
      "source": [
        "#n = int(input())\n",
        "n=7\n",
        "heap=[0,1]\n",
        "\n",
        "def swap(arr,x,y):\n",
        "  arr[x],arr[y]=arr[y],arr[x]\n",
        "\n",
        "for i in range(2,n+1):\n",
        "  heap.append(i)\n",
        "  print(heap)\n",
        "  swap(heap,i,i-1)\n",
        "  j= i-1  #최대값\n",
        "  while j !=1:\n",
        "    swap(heap,j,j//2)\n",
        "    print('while',heap)\n",
        "    print(j)\n",
        "    j=j//2\n",
        "\n",
        "\n",
        "#for i in heap[1:]:\n",
        "#  print(i,end=' ')"
      ],
      "execution_count": 13,
      "outputs": [
        {
          "output_type": "stream",
          "text": [
            "[0, 1, 2]\n",
            "[0, 2, 1, 3]\n",
            "while [0, 3, 2, 1]\n",
            "2\n",
            "[0, 3, 2, 1, 4]\n",
            "while [0, 4, 2, 3, 1]\n",
            "3\n",
            "[0, 4, 2, 3, 1, 5]\n",
            "while [0, 4, 5, 3, 2, 1]\n",
            "4\n",
            "while [0, 5, 4, 3, 2, 1]\n",
            "2\n",
            "[0, 5, 4, 3, 2, 1, 6]\n",
            "while [0, 5, 6, 3, 2, 4, 1]\n",
            "5\n",
            "while [0, 6, 5, 3, 2, 4, 1]\n",
            "2\n",
            "[0, 6, 5, 3, 2, 4, 1, 7]\n",
            "while [0, 6, 5, 7, 2, 4, 3, 1]\n",
            "6\n",
            "while [0, 7, 5, 6, 2, 4, 3, 1]\n",
            "3\n"
          ],
          "name": "stdout"
        }
      ]
    },
    {
      "cell_type": "code",
      "metadata": {
        "id": "MNbY7oGtCvBI",
        "colab_type": "code",
        "colab": {
          "base_uri": "https://localhost:8080/",
          "height": 176
        },
        "outputId": "280c6f13-f311-48ea-ab14-6ab326da014b"
      },
      "source": [
        "n=7\n",
        "heap=[0,1]\n",
        "\n",
        "def swap(arr,x,y):\n",
        "  arr[x],arr[y]=arr[y],arr[x]\n",
        "\n",
        "for i in range(2,n+1):\n",
        "  heap.append(i)\n",
        "  swap(heap,i,i-1)\n",
        "  #print(heap)\n",
        "  j=i-1\n",
        "  while j !=1:\n",
        "    swap(heap,j,j//2)\n",
        "    j=j//2\n",
        "    print(j)\n",
        "\n",
        "print(heap)"
      ],
      "execution_count": 35,
      "outputs": [
        {
          "output_type": "stream",
          "text": [
            "1\n",
            "1\n",
            "2\n",
            "1\n",
            "2\n",
            "1\n",
            "3\n",
            "1\n",
            "[0, 7, 5, 6, 2, 4, 3, 1]\n"
          ],
          "name": "stdout"
        }
      ]
    }
  ]
}