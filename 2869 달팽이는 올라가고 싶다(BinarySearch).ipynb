{
  "nbformat": 4,
  "nbformat_minor": 0,
  "metadata": {
    "colab": {
      "name": "Untitled9.ipynb",
      "provenance": [],
      "authorship_tag": "ABX9TyP5t/tZuHW8gU3EJBCobIEf",
      "include_colab_link": true
    },
    "kernelspec": {
      "name": "python3",
      "display_name": "Python 3"
    }
  },
  "cells": [
    {
      "cell_type": "markdown",
      "metadata": {
        "id": "view-in-github",
        "colab_type": "text"
      },
      "source": [
        "<a href=\"https://colab.research.google.com/github/anjunpil/beakjun_coding/blob/master/2869%20%EB%8B%AC%ED%8C%BD%EC%9D%B4%EB%8A%94%20%EC%98%AC%EB%9D%BC%EA%B0%80%EA%B3%A0%20%EC%8B%B6%EB%8B%A4(BinarySearch).ipynb\" target=\"_parent\"><img src=\"https://colab.research.google.com/assets/colab-badge.svg\" alt=\"Open In Colab\"/></a>"
      ]
    },
    {
      "cell_type": "code",
      "metadata": {
        "id": "LDxkZ-4N3mS1",
        "colab_type": "code",
        "colab": {}
      },
      "source": [
        "#낮에 A 미터 올라감\n",
        "#밤에 B 미터 내려감\n",
        "#높이 V 미터 막대\n",
        "import sys\n",
        "\n",
        "A,B,V=map(int,sys.stdin.readline().split())\n",
        "#A,B,V=map(int,input().split())\n",
        "\n",
        "def Search(up,down,start,last,count):\n",
        "    start=start+up\n",
        "    print('up',start) #올라감\n",
        "    if start>=last:\n",
        "      return count+1 #마지막 횟수에 +1 끝ㅌ\n",
        "    start=start-down\n",
        "    print('down',start) #내려감\n",
        "    print('count',count) #횟수\n",
        "    return Search(up,down,start,last,count+1)\n",
        "print(Search(A,B,0,V,0))"
      ],
      "execution_count": 0,
      "outputs": []
    },
    {
      "cell_type": "code",
      "metadata": {
        "id": "Q9FvF43U8kCI",
        "colab_type": "code",
        "colab": {
          "base_uri": "https://localhost:8080/",
          "height": 35
        },
        "outputId": "b0de688b-f30b-4e57-e87f-84b00bf655df"
      },
      "source": [
        "A,B,V=map(int,input().split())\n",
        "print((V-B-1)//(A-B)+1)  #뺀 수만큼 올라가니 총 길이를 나눈 몫을 구함\n"
      ],
      "execution_count": 50,
      "outputs": [
        {
          "output_type": "stream",
          "text": [
            "5\n"
          ],
          "name": "stdout"
        }
      ]
    }
  ]
}