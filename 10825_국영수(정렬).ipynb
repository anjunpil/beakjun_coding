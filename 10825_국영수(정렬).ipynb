{
  "nbformat": 4,
  "nbformat_minor": 0,
  "metadata": {
    "colab": {
      "name": "10825 국영수(정렬).ipynb",
      "provenance": [],
      "authorship_tag": "ABX9TyO/LHo697NTerSNoliJyoPr",
      "include_colab_link": true
    },
    "kernelspec": {
      "name": "python3",
      "display_name": "Python 3"
    }
  },
  "cells": [
    {
      "cell_type": "markdown",
      "metadata": {
        "id": "view-in-github",
        "colab_type": "text"
      },
      "source": [
        "<a href=\"https://colab.research.google.com/github/anjunpil/beakjun_coding/blob/master/10825_%EA%B5%AD%EC%98%81%EC%88%98(%EC%A0%95%EB%A0%AC).ipynb\" target=\"_parent\"><img src=\"https://colab.research.google.com/assets/colab-badge.svg\" alt=\"Open In Colab\"/></a>"
      ]
    },
    {
      "cell_type": "code",
      "metadata": {
        "id": "0bf0nrywdURE",
        "colab_type": "code",
        "colab": {}
      },
      "source": [
        "n= int(input())\n",
        "b=[]\n",
        "for i in range(n):\n",
        "  b.append(list(input().split()))\n",
        "b.sort(key=lambda x: (-int(x[1]),int(x[2]),-int(x[3]),x[0]))\n",
        "#index 1 역순 index 2 , index 3 역순 , index 0 순으로 정렬\n",
        "for i in b:\n",
        "  print(i[0])"
      ],
      "execution_count": 0,
      "outputs": []
    },
    {
      "cell_type": "code",
      "metadata": {
        "id": "7fJ1FuneMq9D",
        "colab_type": "code",
        "colab": {}
      },
      "source": [
        "\n",
        "'''Junkyu 50 60 100\n",
        "Sangkeun 80 60 50\n",
        "Sunyoung 80 70 100\n",
        "Soong 50 60 90\n",
        "Haebin 50 60 100\n",
        "Kangsoo 60 80 100\n",
        "Donghyuk 80 60 100\n",
        "Sei 70 70 70\n",
        "Wonseob 70 70 90\n",
        "Sanghyun 70 70 80\n",
        "nsj 80 80 80\n",
        "Taewhan 50 60 90'''"
      ],
      "execution_count": 0,
      "outputs": []
    }
  ]
}