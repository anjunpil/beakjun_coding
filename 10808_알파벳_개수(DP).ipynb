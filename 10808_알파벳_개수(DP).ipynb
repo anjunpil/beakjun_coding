{
  "nbformat": 4,
  "nbformat_minor": 0,
  "metadata": {
    "colab": {
      "name": "10808 알파벳 개수(DP).ipynb",
      "provenance": [],
      "authorship_tag": "ABX9TyMR3h/mToysG2VkYUUWfDnp",
      "include_colab_link": true
    },
    "kernelspec": {
      "name": "python3",
      "display_name": "Python 3"
    }
  },
  "cells": [
    {
      "cell_type": "markdown",
      "metadata": {
        "id": "view-in-github",
        "colab_type": "text"
      },
      "source": [
        "<a href=\"https://colab.research.google.com/github/anjunpil/beakjun_coding/blob/master/10808_%EC%95%8C%ED%8C%8C%EB%B2%B3_%EA%B0%9C%EC%88%98(DP).ipynb\" target=\"_parent\"><img src=\"https://colab.research.google.com/assets/colab-badge.svg\" alt=\"Open In Colab\"/></a>"
      ]
    },
    {
      "cell_type": "code",
      "metadata": {
        "id": "MNbY7oGtCvBI",
        "colab_type": "code",
        "colab": {
          "base_uri": "https://localhost:8080/",
          "height": 52
        },
        "outputId": "7c156750-9408-4b7f-89e5-6348e6600fec"
      },
      "source": [
        "n=input()\n",
        "dp = [0 for _ in range(26)]\n",
        "for i in n:\n",
        "  dp[ord(i)-97]+=1\n",
        "\n",
        "print(*dp)"
      ],
      "execution_count": 39,
      "outputs": [
        {
          "output_type": "stream",
          "text": [
            "asdsad\n",
            "2 0 0 2 0 0 0 0 0 0 0 0 0 0 0 0 0 0 2 0 0 0 0 0 0 0\n"
          ],
          "name": "stdout"
        }
      ]
    },
    {
      "cell_type": "code",
      "metadata": {
        "id": "EbxQDq9_GbV3",
        "colab_type": "code",
        "colab": {
          "base_uri": "https://localhost:8080/",
          "height": 34
        },
        "outputId": "adcd787e-1353-4a20-fbe6-c4cb681952b0"
      },
      "source": [
        "n='hihellohello'\n",
        "dp = [0 for _ in range(26)]  #0으로 리스트 만들어줌\n",
        "for i in n:\n",
        "  dp[ord(i)-97]+=1  #ord 함수를 이용 해 인덱스 값을 동일하게만들어주고 더해줌\n",
        "\n",
        "print(*dp)"
      ],
      "execution_count": 40,
      "outputs": [
        {
          "output_type": "stream",
          "text": [
            "0 0 0 0 2 0 0 3 1 0 0 4 0 0 2 0 0 0 0 0 0 0 0 0 0 0\n"
          ],
          "name": "stdout"
        }
      ]
    }
  ]
}