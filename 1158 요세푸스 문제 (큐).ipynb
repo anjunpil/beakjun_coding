{
  "nbformat": 4,
  "nbformat_minor": 0,
  "metadata": {
    "colab": {
      "name": "1874 수열 (스택).ipynb",
      "provenance": [],
      "collapsed_sections": [],
      "authorship_tag": "ABX9TyPbabbSnmBz76u2X+rKZP7u",
      "include_colab_link": true
    },
    "kernelspec": {
      "name": "python3",
      "display_name": "Python 3"
    }
  },
  "cells": [
    {
      "cell_type": "markdown",
      "metadata": {
        "id": "view-in-github",
        "colab_type": "text"
      },
      "source": [
        "<a href=\"https://colab.research.google.com/github/anjunpil/beakjun_coding/blob/master/1158%20%EC%9A%94%EC%84%B8%ED%91%B8%EC%8A%A4%20%EB%AC%B8%EC%A0%9C%20(%ED%81%90).ipynb\" target=\"_parent\"><img src=\"https://colab.research.google.com/assets/colab-badge.svg\" alt=\"Open In Colab\"/></a>"
      ]
    },
    {
      "cell_type": "code",
      "metadata": {
        "id": "tGt7INjzBBRf",
        "colab_type": "code",
        "colab": {
          "base_uri": "https://localhost:8080/",
          "height": 301
        },
        "outputId": "b1768e10-86dc-435c-8632-99307c6c3866"
      },
      "source": [
        "class queue():        #class 함수 만들어서 사용\n",
        "\n",
        "  def __init__(self):     \n",
        "    self.list=[]\n",
        "\n",
        "  def push(self,items):\n",
        "    self.list.append(items)\n",
        "    return items\n",
        "\n",
        "  def pop(self,i):\n",
        "    if self.empty()==1:\n",
        "      return -1\n",
        "    else:\n",
        "      return self.list.pop(i)\n",
        "  def size(self):\n",
        "    return len(self.list)\n",
        "\n",
        "  def empty(self):\n",
        "    if len(self.list)==0:\n",
        "      return 1\n",
        "    else:\n",
        "      return 0\n",
        "\n",
        "  def front(self):\n",
        "      if len(self.list)==0:\n",
        "        return -1\n",
        "      else:\n",
        "        return self.list[0]\n",
        "  \n",
        "  def back(self):\n",
        "    if len(self.list)==0:\n",
        "      return -1\n",
        "    else:\n",
        "      return self.list[-1] #queue class 함수 정의\n",
        "\n",
        "q=queue()\n",
        "K,N=map(int,input().split())\n",
        "result=[]\n",
        "num=N-1\n",
        "for i in range(1,K+1):\n",
        "  q.push(i)\n",
        "\n",
        "while True:\n",
        "  result.append(q.pop(num))  #q.pop 함수를 이용해서 result에 채워준다\n",
        "  if not q.list:\n",
        "    break\n",
        "  num=(num+N-1) % len(q.list)\n",
        "  print(num)   \n",
        "  print(q.list)\n",
        "print('result',result)"
      ],
      "execution_count": 57,
      "outputs": [
        {
          "output_type": "stream",
          "text": [
            "8 3\n",
            "4\n",
            "[1, 2, 4, 5, 6, 7, 8]\n",
            "0\n",
            "[1, 2, 4, 5, 7, 8]\n",
            "2\n",
            "[2, 4, 5, 7, 8]\n",
            "0\n",
            "[2, 4, 7, 8]\n",
            "2\n",
            "[4, 7, 8]\n",
            "0\n",
            "[4, 7]\n",
            "0\n",
            "[7]\n",
            "result [3, 6, 1, 5, 2, 8, 4, 7]\n"
          ],
          "name": "stdout"
        }
      ]
    },
    {
      "cell_type": "code",
      "metadata": {
        "id": "PrGj_wq4cd86",
        "colab_type": "code",
        "colab": {}
      },
      "source": [
        ""
      ],
      "execution_count": 0,
      "outputs": []
    }
  ]
}