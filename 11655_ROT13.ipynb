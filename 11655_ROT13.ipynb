{
  "nbformat": 4,
  "nbformat_minor": 0,
  "metadata": {
    "colab": {
      "name": "11655 ROT13.ipynb",
      "provenance": [],
      "authorship_tag": "ABX9TyOKHith6cdhveAOiZYLBRvd",
      "include_colab_link": true
    },
    "kernelspec": {
      "name": "python3",
      "display_name": "Python 3"
    }
  },
  "cells": [
    {
      "cell_type": "markdown",
      "metadata": {
        "id": "view-in-github",
        "colab_type": "text"
      },
      "source": [
        "<a href=\"https://colab.research.google.com/github/anjunpil/beakjun_coding/blob/master/11655_ROT13.ipynb\" target=\"_parent\"><img src=\"https://colab.research.google.com/assets/colab-badge.svg\" alt=\"Open In Colab\"/></a>"
      ]
    },
    {
      "cell_type": "code",
      "metadata": {
        "id": "_-tQJU8BK5L2",
        "colab_type": "code",
        "colab": {
          "base_uri": "https://localhost:8080/",
          "height": 52
        },
        "outputId": "929f0289-e140-4d14-8617-07068b33a0f3"
      },
      "source": [
        "n=input()\n",
        "\n",
        "b=''\n",
        "for i in n:\n",
        "  if ord(i)>=62 and ord(i)<=90:  #아스키코드를 이용해 숫자로 바꿔줌\n",
        "    num=ord(i)+13                #조건에 맞게 출력\n",
        "    if num<=90:\n",
        "      b+=chr(num)\n",
        "    else:\n",
        "      num=num-26\n",
        "      b+=chr(num)  \n",
        "  elif ord(i)>=97 and ord(i)<=122:\n",
        "    num=ord(i)+13 \n",
        "    if num<=122:\n",
        "      b+=chr(num)\n",
        "    else:\n",
        "      num=num-26\n",
        "      b+=chr(num)\n",
        "  elif i==' ':\n",
        "    b+=' '\n",
        "  else:\n",
        "    b+=str(i) \n",
        "print(b)"
      ],
      "execution_count": 126,
      "outputs": [
        {
          "output_type": "stream",
          "text": [
            "One is 1\n",
            "Bar vf 1\n"
          ],
          "name": "stdout"
        }
      ]
    }
  ]
}