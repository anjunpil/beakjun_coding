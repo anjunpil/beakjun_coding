{
  "nbformat": 4,
  "nbformat_minor": 0,
  "metadata": {
    "colab": {
      "name": "1874 수열 (스택).ipynb",
      "provenance": [],
      "collapsed_sections": [],
      "authorship_tag": "ABX9TyPk6jHfWmXryDQamshT24Ql",
      "include_colab_link": true
    },
    "kernelspec": {
      "name": "python3",
      "display_name": "Python 3"
    }
  },
  "cells": [
    {
      "cell_type": "markdown",
      "metadata": {
        "id": "view-in-github",
        "colab_type": "text"
      },
      "source": [
        "<a href=\"https://colab.research.google.com/github/anjunpil/beakjun_coding/blob/master/10845_%ED%81%90%20(%ED%81%90).ipynb\" target=\"_parent\"><img src=\"https://colab.research.google.com/assets/colab-badge.svg\" alt=\"Open In Colab\"/></a>"
      ]
    },
    {
      "cell_type": "code",
      "metadata": {
        "id": "tGt7INjzBBRf",
        "colab_type": "code",
        "colab": {
          "base_uri": "https://localhost:8080/",
          "height": 514
        },
        "outputId": "b9126618-3366-472e-899a-8f9933e546cb"
      },
      "source": [
        "class queue():        #class 함수 만들어서 사용\n",
        "\n",
        "  def __init__(self):     #\n",
        "    self.list=[]\n",
        "\n",
        "  def push(self,items):\n",
        "    self.list.append(items)\n",
        "    return items\n",
        "\n",
        "  def pop(self):\n",
        "    if self.empty()==1:\n",
        "      return -1\n",
        "    else:\n",
        "      return self.list.pop(0)\n",
        "  def size(self):\n",
        "    return len(self.list)\n",
        "\n",
        "  def empty(self):\n",
        "    if len(self.list)==0:\n",
        "      return 1\n",
        "    else:\n",
        "      return 0\n",
        "\n",
        "  def front(self):\n",
        "      if len(self.list)==0:\n",
        "        return -1\n",
        "      else:\n",
        "        return self.list[0]\n",
        "  \n",
        "  def back(self):\n",
        "    if len(self.list)==0:\n",
        "      return -1\n",
        "    else:\n",
        "      return self.list[-1]\n",
        "\n",
        "n=int(input())\n",
        "q=queue()\n",
        "\n",
        "for i in range(n):      #조건에 맞게 for문 작성\n",
        "  string = input()\n",
        "  if string.split()[0] == 'push':\n",
        "    q.push(int(string.split()[1]))\n",
        "    \n",
        "  elif string =='pop':\n",
        "    print(q.pop())\n",
        "  elif string =='size':\n",
        "    print(q.size())\n",
        "  elif string =='empty':\n",
        "    print(q.empty())\n",
        "  elif string == 'front':\n",
        "    print(q.front())\n",
        "  else:\n",
        "    print(q.back())"
      ],
      "execution_count": 41,
      "outputs": [
        {
          "output_type": "stream",
          "text": [
            "15\n",
            "push 1\n",
            "push 2\n",
            "front\n",
            "1\n",
            "back\n",
            "2\n",
            "size\n",
            "2\n",
            "empty\n",
            "0\n",
            "pop\n",
            "1\n",
            "pop\n",
            "2\n",
            "pop\n",
            "-1\n",
            "size\n",
            "0\n",
            "empty\n",
            "1\n",
            "pop\n",
            "-1\n",
            "push 3\n",
            "empty\n",
            "0\n",
            "front\n",
            "3\n"
          ],
          "name": "stdout"
        }
      ]
    }
  ]
}