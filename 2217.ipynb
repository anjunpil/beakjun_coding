{
  "nbformat": 4,
  "nbformat_minor": 0,
  "metadata": {
    "colab": {
      "name": "2217",
      "provenance": [],
      "collapsed_sections": [],
      "authorship_tag": "ABX9TyONHc5+pndA+TBGugwaII/9",
      "include_colab_link": true
    },
    "kernelspec": {
      "name": "python3",
      "display_name": "Python 3"
    }
  },
  "cells": [
    {
      "cell_type": "markdown",
      "metadata": {
        "id": "view-in-github",
        "colab_type": "text"
      },
      "source": [
        "<a href=\"https://colab.research.google.com/github/anjunpil/beakjun_coding/blob/master/2217.ipynb\" target=\"_parent\"><img src=\"https://colab.research.google.com/assets/colab-badge.svg\" alt=\"Open In Colab\"/></a>"
      ]
    },
    {
      "cell_type": "code",
      "metadata": {
        "id": "PhFGSl2XnauS",
        "colab_type": "code",
        "outputId": "552c0afa-80f5-4f92-8404-a73dd1dcf99e",
        "colab": {
          "base_uri": "https://localhost:8080/",
          "height": 107
        }
      },
      "source": [
        "n=int(input())  #시간초과\n",
        "Kg=[]\n",
        "for i in range(n):\n",
        "  Kg.append(int(input()))\n",
        "Kg2=list(set(Kg))\n",
        "Kg2= sorted(Kg2,reverse=True)\n",
        "Sum=[]\n",
        "for i in Kg2:\n",
        "  count=0\n",
        "  for j in Kg:\n",
        "    if j>=i:\n",
        "      count+=1\n",
        "  Sum.append(count*i)\n",
        "print(max(Sum))"
      ],
      "execution_count": 68,
      "outputs": [
        {
          "output_type": "stream",
          "text": [
            "3\n",
            "10\n",
            "15\n",
            "20\n",
            "30\n"
          ],
          "name": "stdout"
        }
      ]
    },
    {
      "cell_type": "code",
      "metadata": {
        "id": "kq4_mRaqlJsV",
        "colab_type": "code",
        "outputId": "22e90c34-6d4b-46a7-d4e9-56a57f69116e",
        "colab": {
          "base_uri": "https://localhost:8080/",
          "height": 35
        }
      },
      "source": [
        "n=int(input())\n",
        "a=[]\n",
        "for i in range(n):\n",
        "  a.append(int(input()))\n",
        "a=sorted(a,reverse=True)\n",
        "b=[]\n",
        "for i in range(n):\n",
        "    b.append(a[i]*(i+1))\n",
        "print(max(b)) #해설엔 중복된 값이 없나봄,,"
      ],
      "execution_count": 0,
      "outputs": [
        {
          "output_type": "stream",
          "text": [
            "60\n"
          ],
          "name": "stdout"
        }
      ]
    },
    {
      "cell_type": "code",
      "metadata": {
        "id": "Tdofj42TpVIv",
        "colab_type": "code",
        "outputId": "d53a2d1e-8b11-4e3a-9658-4a4f8a741e4d",
        "colab": {
          "base_uri": "https://localhost:8080/",
          "height": 35
        }
      },
      "source": [
        "Sum"
      ],
      "execution_count": 0,
      "outputs": [
        {
          "output_type": "execute_result",
          "data": {
            "text/plain": [
              "[40, 60, 50]"
            ]
          },
          "metadata": {
            "tags": []
          },
          "execution_count": 58
        }
      ]
    }
  ]
}