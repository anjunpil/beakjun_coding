{
  "nbformat": 4,
  "nbformat_minor": 0,
  "metadata": {
    "colab": {
      "name": "10809 알파벳 위치(DP).ipynb",
      "provenance": [],
      "authorship_tag": "ABX9TyOl1q1+G0EUn/LBawjAqeK3",
      "include_colab_link": true
    },
    "kernelspec": {
      "name": "python3",
      "display_name": "Python 3"
    }
  },
  "cells": [
    {
      "cell_type": "markdown",
      "metadata": {
        "id": "view-in-github",
        "colab_type": "text"
      },
      "source": [
        "<a href=\"https://colab.research.google.com/github/anjunpil/beakjun_coding/blob/master/10809_%EC%95%8C%ED%8C%8C%EB%B2%B3_%EC%9C%84%EC%B9%98(DP).ipynb\" target=\"_parent\"><img src=\"https://colab.research.google.com/assets/colab-badge.svg\" alt=\"Open In Colab\"/></a>"
      ]
    },
    {
      "cell_type": "code",
      "metadata": {
        "id": "MNbY7oGtCvBI",
        "colab_type": "code",
        "colab": {
          "base_uri": "https://localhost:8080/",
          "height": 52
        },
        "outputId": "fc8d8d3f-82be-49aa-d9c0-d9dbdbf90718"
      },
      "source": [
        "n=input()\n",
        "m=[]\n",
        "dp = [-1 for _ in range(26)]\n",
        "for j,i in enumerate(n):\n",
        "  if i not in m:\n",
        "    m.append(i)\n",
        "    dp[ord(i)-97]=j #인덱스 값을넣어 위치를 알림\n",
        "  else:\n",
        "    pass #중복값 입력시 pass\n",
        "\n",
        "print(*dp)"
      ],
      "execution_count": 62,
      "outputs": [
        {
          "output_type": "stream",
          "text": [
            "beakjoon\n",
            "2 0 -1 -1 1 -1 -1 -1 -1 4 3 -1 -1 7 5 -1 -1 -1 -1 -1 -1 -1 -1 -1 -1 -1\n"
          ],
          "name": "stdout"
        }
      ]
    }
  ]
}