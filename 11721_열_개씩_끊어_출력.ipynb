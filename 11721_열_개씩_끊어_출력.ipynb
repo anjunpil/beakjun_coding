{
  "nbformat": 4,
  "nbformat_minor": 0,
  "metadata": {
    "colab": {
      "name": "11721 열 개씩 끊어 출력.ipynb",
      "provenance": [],
      "authorship_tag": "ABX9TyOLFS9iZJXhRIDE0HDyVpMq",
      "include_colab_link": true
    },
    "kernelspec": {
      "name": "python3",
      "display_name": "Python 3"
    }
  },
  "cells": [
    {
      "cell_type": "markdown",
      "metadata": {
        "id": "view-in-github",
        "colab_type": "text"
      },
      "source": [
        "<a href=\"https://colab.research.google.com/github/anjunpil/beakjun_coding/blob/master/11721_%EC%97%B4_%EA%B0%9C%EC%94%A9_%EB%81%8A%EC%96%B4_%EC%B6%9C%EB%A0%A5.ipynb\" target=\"_parent\"><img src=\"https://colab.research.google.com/assets/colab-badge.svg\" alt=\"Open In Colab\"/></a>"
      ]
    },
    {
      "cell_type": "code",
      "metadata": {
        "id": "-FnHKoghUtbT",
        "colab_type": "code",
        "colab": {
          "base_uri": "https://localhost:8080/",
          "height": 87
        },
        "outputId": "2a642f72-59cb-4cb1-a8e5-75d3d2ca33e3"
      },
      "source": [
        "n=input()\n",
        "b=''\n",
        "for j,i in enumerate(n):\n",
        "  if j%10 ==0 and j>1:\n",
        "    b+='\\n'\n",
        "    b+=i\n",
        "  else:\n",
        "    b+=i\n",
        "print(b)"
      ],
      "execution_count": 135,
      "outputs": [
        {
          "output_type": "stream",
          "text": [
            "OneTwoThre\n",
            "eFourFiveS\n",
            "ixSevenEig\n",
            "htNineTen\n"
          ],
          "name": "stdout"
        }
      ]
    }
  ]
}