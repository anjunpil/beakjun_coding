{
  "nbformat": 4,
  "nbformat_minor": 0,
  "metadata": {
    "colab": {
      "name": "9416 파도반 수열(DP).ipynb",
      "provenance": [],
      "authorship_tag": "ABX9TyOULUBZ/XH8AUcEWj2RO98E",
      "include_colab_link": true
    },
    "kernelspec": {
      "name": "python3",
      "display_name": "Python 3"
    }
  },
  "cells": [
    {
      "cell_type": "markdown",
      "metadata": {
        "id": "view-in-github",
        "colab_type": "text"
      },
      "source": [
        "<a href=\"https://colab.research.google.com/github/anjunpil/beakjun_coding/blob/master/9416_%ED%8C%8C%EB%8F%84%EB%B0%98_%EC%88%98%EC%97%B4(DP).ipynb\" target=\"_parent\"><img src=\"https://colab.research.google.com/assets/colab-badge.svg\" alt=\"Open In Colab\"/></a>"
      ]
    },
    {
      "cell_type": "code",
      "metadata": {
        "id": "DW4ZCxOTDPGp",
        "colab_type": "code",
        "colab": {}
      },
      "source": [
        "n=int(input())\n",
        "\n",
        "dp=[0 for i in range(101)]\n",
        "dp[0:2]=[1,1]\n",
        "\n",
        "for i in range(2,101):\n",
        "  dp[i]= dp[i-2]+dp[i-3]\n",
        "\n",
        "for i in range(n):\n",
        "  print(dp[int(input())-1])"
      ],
      "execution_count": 0,
      "outputs": []
    }
  ]
}