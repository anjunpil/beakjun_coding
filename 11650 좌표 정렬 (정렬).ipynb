{
  "nbformat": 4,
  "nbformat_minor": 0,
  "metadata": {
    "colab": {
      "name": "2751 수 정렬하기.ipynb",
      "provenance": [],
      "authorship_tag": "ABX9TyP4tlDuUWkQn3pOl0QJ5fkD",
      "include_colab_link": true
    },
    "kernelspec": {
      "name": "python3",
      "display_name": "Python 3"
    }
  },
  "cells": [
    {
      "cell_type": "markdown",
      "metadata": {
        "id": "view-in-github",
        "colab_type": "text"
      },
      "source": [
        "<a href=\"https://colab.research.google.com/github/anjunpil/beakjun_coding/blob/master/11650%20%EC%A2%8C%ED%91%9C%20%EC%A0%95%EB%A0%AC%20(%EC%A0%95%EB%A0%AC).ipynb\" target=\"_parent\"><img src=\"https://colab.research.google.com/assets/colab-badge.svg\" alt=\"Open In Colab\"/></a>"
      ]
    },
    {
      "cell_type": "code",
      "metadata": {
        "id": "zT4Fe6XDCaSD",
        "colab_type": "code",
        "colab": {}
      },
      "source": [
        "n= int(input())\n",
        "b=[]\n",
        "for i in range(n):\n",
        "  b.append(list(map(int,input().split())))\n",
        "b.sort(key = lambda x : (x[0],x[1]))  #sort를 인덱스 두번째로 함\n",
        "\n",
        "for i in b:\n",
        "  print(*i)"
      ],
      "execution_count": 0,
      "outputs": []
    }
  ]
}