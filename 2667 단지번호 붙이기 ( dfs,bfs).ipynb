{
  "nbformat": 4,
  "nbformat_minor": 0,
  "metadata": {
    "colab": {
      "name": "Untitled13.ipynb",
      "provenance": [],
      "authorship_tag": "ABX9TyPiK1Zl/YXLk0ufSuyLrgR3",
      "include_colab_link": true
    },
    "kernelspec": {
      "name": "python3",
      "display_name": "Python 3"
    }
  },
  "cells": [
    {
      "cell_type": "markdown",
      "metadata": {
        "id": "view-in-github",
        "colab_type": "text"
      },
      "source": [
        "<a href=\"https://colab.research.google.com/github/anjunpil/beakjun_coding/blob/master/2667%20%EB%8B%A8%EC%A7%80%EB%B2%88%ED%98%B8%20%EB%B6%99%EC%9D%B4%EA%B8%B0%20(%20dfs%2Cbfs).ipynb\" target=\"_parent\"><img src=\"https://colab.research.google.com/assets/colab-badge.svg\" alt=\"Open In Colab\"/></a>"
      ]
    },
    {
      "cell_type": "code",
      "metadata": {
        "id": "KA7NjSAy3HRi",
        "colab_type": "code",
        "colab": {
          "base_uri": "https://localhost:8080/",
          "height": 34
        },
        "outputId": "062641c7-cbad-4301-cf6b-acf7dddb0f80"
      },
      "source": [
        "apt=[]\n",
        "dx=[-1,0,1,0]\n",
        "dy=[0,1,0,-1]\n",
        "n= int(input())\n",
        "a=[list(input()) for _ in range(n)]\n",
        "\n",
        "'''a=[['0','1','1','0','1','1','0'],\n",
        "   ['0','1','1','0','1','0','1'],\n",
        "   ['1','1','1','0','1','0','1'],\n",
        "   ['0','0','0','0','1','1','1'],\n",
        "   ['0','1','0','0','0','0','0'],\n",
        "   ['0','1','1','1','1','1','0'],\n",
        "   ['0','1','1','1','0','0','0']]\n",
        "'''\n",
        "def bfs(i,j):\n",
        "  q = deque()\n",
        "  print('first q',q)   #현재 빈값\n",
        "  q.append((i,j))\n",
        "  print('second q',q)  #빈값에 0,5 튜플 값을 넣어줌\n",
        "  a[i][j]= \"0\"         #0으로 만들어줌\n",
        "  cnt =1               #0으로 만들어 줬으니 1 추가\n",
        "  while q:             #q가 없어 질 때 까지 반복\n",
        "    x,y = q.popleft()           #q에 맨 앞에 값을 빼와서 x,y에 변수에 넣어줌\n",
        "    print('q.popleft',x,y)\n",
        "    print('left q',q)           #q에 남은 값\n",
        "    for i in range(4):          #x,y 좌표에 상하좌우를 살펴 1인 값을 찾음\n",
        "      nx = x+dx[i]\n",
        "      \n",
        "      ny = y+dy[i]\n",
        "      print('nx,ny',nx,ny)     #좌표값\n",
        "      if nx< 0 or nx >= n or ny < 0 or ny >=n:\n",
        "        continue               #좌표가 범위를 벗어나지 않게 지정\n",
        "      if a[nx][ny] == \"1\":     #상하좌우 내에 1이 있으면 cnt+1\n",
        "        a[nx][ny] = \"0\"        #지정 후에 \"0\" 으로 바꿔 중복을 없앰\n",
        "        print(\"a\",a[nx])       \n",
        "        cnt+=1\n",
        "        q.append((nx,ny))      \n",
        "        print(\"q\",q)\n",
        "  return cnt                   #cnt 개수 출력\n",
        "\n",
        "for i in range(n):\n",
        "  for j in range(n):\n",
        "    if a[i][j]==1:\n",
        "      apt.append(bfs(i,j))\n",
        "\n",
        "print(len(apt))\n",
        "apt.sort()\n",
        "for i in apt:\n",
        "  print(i)"
      ],
      "execution_count": 42,
      "outputs": [
        {
          "output_type": "stream",
          "text": [
            "0\n"
          ],
          "name": "stdout"
        }
      ]
    },
    {
      "cell_type": "code",
      "metadata": {
        "id": "cgJOOsrI757M",
        "colab_type": "code",
        "colab": {}
      },
      "source": [
        "# 다른 분 풀이\n",
        "\n",
        "N=int(input())\n",
        "mp=[[int(k) for k in input()] for _ in range(N)]\n",
        "vst=[[False]*N for _ in range(N)]\n",
        "dx=[1,0,-1,0]\n",
        "dy=[0,1,0,-1]\n",
        "ans=[]\n",
        "\n",
        "def dfs(i,j):\n",
        "\tc=0\n",
        "\tif mp[i][j]==1 and not vst[i][j]:\n",
        "\t\tvst[i][j]=True\n",
        "\t\tc+=1\n",
        "\t\tfor d in range(4):\n",
        "\t\t\tm=i+dx[d]\n",
        "\t\t\tn=j+dy[d]\n",
        "\t\t\tif 0<=m<N and 0<=n<N:\n",
        "\t\t\t\tc+=dfs(m,n)\n",
        "\treturn c"
      ],
      "execution_count": 0,
      "outputs": []
    },
    {
      "cell_type": "code",
      "metadata": {
        "id": "nnG0xcp2Ki-N",
        "colab_type": "code",
        "colab": {
          "base_uri": "https://localhost:8080/",
          "height": 34
        },
        "outputId": "a90b8b6a-7948-41b2-a34f-6df58e194eeb"
      },
      "source": [
        "# DFS\n",
        "\n",
        "a=[['0','1','1','0','1','1','0'],\n",
        "   ['0','1','1','0','1','0','1'],\n",
        "   ['1','1','1','0','1','0','1'],\n",
        "   ['0','0','0','0','1','1','1'],\n",
        "   ['0','1','0','0','0','0','0'],\n",
        "   ['0','1','1','1','1','1','0'],\n",
        "   ['0','1','1','1','0','0','0']]\n",
        "\n",
        "\n",
        "\n",
        "\n",
        "cnt =0\n",
        "apt=[]\n",
        "\n",
        "\n",
        "def dfs(x, y):\n",
        "    global cnt\n",
        "    a[x][y] = '0'\n",
        "    cnt += 1\n",
        "    for i in range(4):\n",
        "        nx = x + dx[i]\n",
        "        ny = y + dy[i]\n",
        "        if nx < 0 or nx >= n or ny < 0 or ny >= n:\n",
        "            continue\n",
        "        if a[nx][ny] == '1':\n",
        "            dfs(nx, ny)\n",
        "\n",
        "\n",
        "for i in range(n):\n",
        "    for j in range(n):\n",
        "        if a[i][j] == '1':\n",
        "            cnt = 0\n",
        "            dfs(i, j)\n",
        "            apt.append(cnt)\n",
        "\n",
        "print(apt)"
      ],
      "execution_count": 65,
      "outputs": [
        {
          "output_type": "stream",
          "text": [
            "[7, 9, 9]\n"
          ],
          "name": "stdout"
        }
      ]
    },
    {
      "cell_type": "code",
      "metadata": {
        "id": "jFo1c-WhK00f",
        "colab_type": "code",
        "colab": {
          "base_uri": "https://localhost:8080/",
          "height": 34
        },
        "outputId": "42e04a33-30f1-433d-b316-46339242555f"
      },
      "source": [
        "dfs(1,1)"
      ],
      "execution_count": 59,
      "outputs": [
        {
          "output_type": "execute_result",
          "data": {
            "text/plain": [
              "0"
            ]
          },
          "metadata": {
            "tags": []
          },
          "execution_count": 59
        }
      ]
    }
  ]
}