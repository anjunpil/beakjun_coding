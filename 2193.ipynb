{
  "nbformat": 4,
  "nbformat_minor": 0,
  "metadata": {
    "colab": {
      "name": "2193",
      "provenance": [],
      "authorship_tag": "ABX9TyOwLFVJN6/o8vvPDS3S5ueW",
      "include_colab_link": true
    },
    "kernelspec": {
      "name": "python3",
      "display_name": "Python 3"
    }
  },
  "cells": [
    {
      "cell_type": "markdown",
      "metadata": {
        "id": "view-in-github",
        "colab_type": "text"
      },
      "source": [
        "<a href=\"https://colab.research.google.com/github/anjunpil/beakjun_coding/blob/master/2193.ipynb\" target=\"_parent\"><img src=\"https://colab.research.google.com/assets/colab-badge.svg\" alt=\"Open In Colab\"/></a>"
      ]
    },
    {
      "cell_type": "code",
      "metadata": {
        "id": "Oozrh9hqETHf",
        "colab_type": "code",
        "colab": {
          "base_uri": "https://localhost:8080/",
          "height": 53
        },
        "outputId": "620d9655-a3a5-4b51-9bbc-862362deb5f7"
      },
      "source": [
        "n=int(input())\n",
        "dp=[0]*(n+1)\n",
        "dp[1]=1\n",
        "for i in range(2,n+1):\n",
        "  dp[i]=dp[i-1]+dp[i-2]\n",
        "print(dp[-1])  #규칙성을 찾아 dp[]값에 넣어 메모라이징한다"
      ],
      "execution_count": 37,
      "outputs": [
        {
          "output_type": "stream",
          "text": [
            "6\n",
            "8\n"
          ],
          "name": "stdout"
        }
      ]
    }
  ]
}