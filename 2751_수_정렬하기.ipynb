{
  "nbformat": 4,
  "nbformat_minor": 0,
  "metadata": {
    "colab": {
      "name": "2751 수 정렬하기.ipynb",
      "provenance": [],
      "authorship_tag": "ABX9TyPU7YWDc8/QFKbu0Cm80BI8",
      "include_colab_link": true
    },
    "kernelspec": {
      "name": "python3",
      "display_name": "Python 3"
    }
  },
  "cells": [
    {
      "cell_type": "markdown",
      "metadata": {
        "id": "view-in-github",
        "colab_type": "text"
      },
      "source": [
        "<a href=\"https://colab.research.google.com/github/anjunpil/beakjun_coding/blob/master/2751_%EC%88%98_%EC%A0%95%EB%A0%AC%ED%95%98%EA%B8%B0.ipynb\" target=\"_parent\"><img src=\"https://colab.research.google.com/assets/colab-badge.svg\" alt=\"Open In Colab\"/></a>"
      ]
    },
    {
      "cell_type": "code",
      "metadata": {
        "id": "LwrByMnX_1PV",
        "colab_type": "code",
        "colab": {}
      },
      "source": [
        "n = int(input())\n",
        "b=[]\n",
        "for i in range(n):\n",
        "  b.append(int(input()))\n",
        "\n",
        "for i in sorted(b):\n",
        "  print(i)  #sorted로 정렬하면 끝"
      ],
      "execution_count": 0,
      "outputs": []
    },
    {
      "cell_type": "code",
      "metadata": {
        "id": "emVL5KmuACWC",
        "colab_type": "code",
        "colab": {
          "base_uri": "https://localhost:8080/",
          "height": 34
        },
        "outputId": "fee51cd6-79e0-444d-979b-9d673bb086c6"
      },
      "source": [
        "# merge sort/heap sort 로\n",
        "\n",
        "v = [int(input()) for i in range(int(input()))] # 입력\n",
        " \n",
        "# merge sort\n",
        "def merge(left, right) :\n",
        "    v=list()\n",
        "    i=0;j=0\n",
        "    while(i<len(left) and j<len(right)) :\n",
        "        if left[i]<=right[j] :\n",
        "            v.append(left[i])\n",
        "            i+=1\n",
        "        else :\n",
        "            v.append(right[j])\n",
        "            j+=1\n",
        "    if i==len(left) : v = v + right[j:len(right)]\n",
        "    if j == len(right): v = v + left[i:len(left)]\n",
        "    return v\n",
        " \n",
        "def merge_sort(v) :\n",
        "    if len(v) <= 1 : return v\n",
        "    m = len(v)//2\n",
        "    left = merge_sort(v[0:m])\n",
        "    right = merge_sort(v[m:len(v)])\n",
        "    return merge(left, right)\n",
        " \n",
        "m = merge_sort(v)\n",
        "print(*m, sep=\"\\n\")"
      ],
      "execution_count": 151,
      "outputs": [
        {
          "output_type": "stream",
          "text": [
            "[1, 2, 3, 4, 5]\n"
          ],
          "name": "stdout"
        }
      ]
    }
  ]
}