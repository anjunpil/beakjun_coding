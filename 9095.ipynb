{
  "nbformat": 4,
  "nbformat_minor": 0,
  "metadata": {
    "colab": {
      "name": "9095",
      "provenance": [],
      "authorship_tag": "ABX9TyPsPN5qL6ARsoPxA718q2Q/",
      "include_colab_link": true
    },
    "kernelspec": {
      "name": "python3",
      "display_name": "Python 3"
    }
  },
  "cells": [
    {
      "cell_type": "markdown",
      "metadata": {
        "id": "view-in-github",
        "colab_type": "text"
      },
      "source": [
        "<a href=\"https://colab.research.google.com/github/anjunpil/beakjun_coding/blob/master/9095.ipynb\" target=\"_parent\"><img src=\"https://colab.research.google.com/assets/colab-badge.svg\" alt=\"Open In Colab\"/></a>"
      ]
    },
    {
      "cell_type": "code",
      "metadata": {
        "id": "LLL1rvmQSebW",
        "colab_type": "code",
        "colab": {
          "base_uri": "https://localhost:8080/",
          "height": 143
        },
        "outputId": "bd5fcdf7-1be9-41a9-ed24-4b5c865d21aa"
      },
      "source": [
        "a=[1,2,4]\n",
        "for i in range(3,11):\n",
        "  a.append(sum(a[-3:]))\n",
        "for i in range(int(input())):\n",
        "  n=int(input())\n",
        "  print(a[n-1]) "
      ],
      "execution_count": 44,
      "outputs": [
        {
          "output_type": "stream",
          "text": [
            "3\n",
            "4\n",
            "7\n",
            "7\n",
            "44\n",
            "10\n",
            "274\n"
          ],
          "name": "stdout"
        }
      ]
    },
    {
      "cell_type": "code",
      "metadata": {
        "id": "RjgjyOzqVE0P",
        "colab_type": "code",
        "colab": {
          "base_uri": "https://localhost:8080/",
          "height": 35
        },
        "outputId": "83e4aab9-f9c5-46f0-a30b-075ee77b83b1"
      },
      "source": [
        "a=[1,2,4]\n",
        "for i in range(4,11):\n",
        "  a.append(sum(a[-3:]))\n",
        "print(a)"
      ],
      "execution_count": 43,
      "outputs": [
        {
          "output_type": "stream",
          "text": [
            "[1, 2, 4, 7, 13, 24, 44, 81, 149, 274]\n"
          ],
          "name": "stdout"
        }
      ]
    },
    {
      "cell_type": "code",
      "metadata": {
        "id": "bPzHw8UqWE9h",
        "colab_type": "code",
        "colab": {
          "base_uri": "https://localhost:8080/",
          "height": 55
        },
        "outputId": "5b4a820a-4cb2-4dcd-88cb-b1960c38c50f"
      },
      "source": [
        "a = [0 for _ in range(6)]"
      ],
      "execution_count": 17,
      "outputs": [
        {
          "output_type": "stream",
          "text": [
            "ERROR! Session/line number was not unique in database. History logging moved to new session 62\n"
          ],
          "name": "stdout"
        }
      ]
    }
  ]
}