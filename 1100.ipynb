{
  "nbformat": 4,
  "nbformat_minor": 0,
  "metadata": {
    "colab": {
      "name": "1100",
      "provenance": [],
      "authorship_tag": "ABX9TyOtWx8Csgt0aVaojUIznLDV",
      "include_colab_link": true
    },
    "kernelspec": {
      "name": "python3",
      "display_name": "Python 3"
    }
  },
  "cells": [
    {
      "cell_type": "markdown",
      "metadata": {
        "id": "view-in-github",
        "colab_type": "text"
      },
      "source": [
        "<a href=\"https://colab.research.google.com/github/anjunpil/beakjun_coding/blob/master/1100.ipynb\" target=\"_parent\"><img src=\"https://colab.research.google.com/assets/colab-badge.svg\" alt=\"Open In Colab\"/></a>"
      ]
    },
    {
      "cell_type": "code",
      "metadata": {
        "id": "8JRRFp8hKPM5",
        "colab_type": "code",
        "colab": {
          "base_uri": "https://localhost:8080/",
          "height": 179
        },
        "outputId": "7558c9ce-7bd0-4a99-e1e5-a667dbc76aa7"
      },
      "source": [
        "count=0\n",
        "for i in range(8):\n",
        "  a=list(map(str,input()))\n",
        "  if i%2 == 0 or i==0:\n",
        "    for j in range(0,8,2):\n",
        "      if a[j] == 'F':\n",
        "        count+=1\n",
        "\n",
        "  else:\n",
        "    for k in range(1,8,2):\n",
        "      if a[k] == 'F':\n",
        "        count+=1\n",
        "print(count)\n"
      ],
      "execution_count": 27,
      "outputs": [
        {
          "output_type": "stream",
          "text": [
            ".F.F...F\n",
            "F...F.F.\n",
            "...F.F.F\n",
            "F.F...F.\n",
            ".F...F..\n",
            "F...F.F.\n",
            ".F.F.F.F\n",
            "..FF..F.\n",
            "1 2\n"
          ],
          "name": "stdout"
        }
      ]
    },
    {
      "cell_type": "code",
      "metadata": {
        "id": "JIcR8DKrN71E",
        "colab_type": "code",
        "colab": {
          "base_uri": "https://localhost:8080/",
          "height": 161
        },
        "outputId": "29480d35-5942-4b68-8328-f871e928b648"
      },
      "source": [
        "c =[[i for i in range(8)]for i in range(8)]\n"
      ],
      "execution_count": 20,
      "outputs": [
        {
          "output_type": "execute_result",
          "data": {
            "text/plain": [
              "[[0, 1, 2, 3, 4, 5, 6, 7],\n",
              " [0, 1, 2, 3, 4, 5, 6, 7],\n",
              " [0, 1, 2, 3, 4, 5, 6, 7],\n",
              " [0, 1, 2, 3, 4, 5, 6, 7],\n",
              " [0, 1, 2, 3, 4, 5, 6, 7],\n",
              " [0, 1, 2, 3, 4, 5, 6, 7],\n",
              " [0, 1, 2, 3, 4, 5, 6, 7],\n",
              " [0, 1, 2, 3, 4, 5, 6, 7]]"
            ]
          },
          "metadata": {
            "tags": []
          },
          "execution_count": 20
        }
      ]
    },
    {
      "cell_type": "code",
      "metadata": {
        "id": "Kospb5W_MaSF",
        "colab_type": "code",
        "colab": {
          "base_uri": "https://localhost:8080/",
          "height": 89
        },
        "outputId": "db72b877-68fd-4a55-d1e6-be1b0dd5a314"
      },
      "source": [
        "c[]"
      ],
      "execution_count": 11,
      "outputs": [
        {
          "output_type": "stream",
          "text": [
            "1\n",
            "3\n",
            "5\n",
            "7\n"
          ],
          "name": "stdout"
        }
      ]
    }
  ]
}