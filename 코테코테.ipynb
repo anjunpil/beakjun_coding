{
  "nbformat": 4,
  "nbformat_minor": 0,
  "metadata": {
    "colab": {
      "name": "코테코테.ipynb",
      "provenance": [],
      "authorship_tag": "ABX9TyMmdFkbDghdYNpIUqbuf1Q/",
      "include_colab_link": true
    },
    "kernelspec": {
      "name": "python3",
      "display_name": "Python 3"
    }
  },
  "cells": [
    {
      "cell_type": "markdown",
      "metadata": {
        "id": "view-in-github",
        "colab_type": "text"
      },
      "source": [
        "<a href=\"https://colab.research.google.com/github/anjunpil/beakjun_coding/blob/master/%EC%BD%94%ED%85%8C%EC%BD%94%ED%85%8C.ipynb\" target=\"_parent\"><img src=\"https://colab.research.google.com/assets/colab-badge.svg\" alt=\"Open In Colab\"/></a>"
      ]
    },
    {
      "cell_type": "code",
      "metadata": {
        "id": "fTtRZYel8ki7",
        "colab_type": "code",
        "colab": {
          "base_uri": "https://localhost:8080/",
          "height": 35
        },
        "outputId": "52c2dfc0-f44b-48db-8d52-07fd45b94bed"
      },
      "source": [
        "# 배열 문제\n",
        "\n",
        "arr=[1,2,6,7,3,5,4]\n",
        "\n",
        "def Sort(arr):\n",
        "  arr.sort()\n",
        "  return arr\n",
        "\n",
        "def Sort2(arr):\n",
        "  for i in range(len(arr)-1):\n",
        "    for j in range(len(arr)-1):\n",
        "      if arr[j]>arr[j+1]:\n",
        "        arr[j],arr[j+1]=arr[j+1],arr[j]\n",
        "\n",
        "  return arr\n",
        "Sort2(arr)"
      ],
      "execution_count": 7,
      "outputs": [
        {
          "output_type": "execute_result",
          "data": {
            "text/plain": [
              "[1, 2, 3, 4, 5, 6, 7]"
            ]
          },
          "metadata": {
            "tags": []
          },
          "execution_count": 7
        }
      ]
    },
    {
      "cell_type": "code",
      "metadata": {
        "id": "KH6CEUlV8owT",
        "colab_type": "code",
        "colab": {}
      },
      "source": [
        "# 별모양 만들기\n",
        "\n",
        "size =5\n",
        "\n",
        "for i in range(size):\n",
        "  if i ==0:\n",
        "    print(' '*int((size*2-1)//2)+'*'+' '*int((size*2-1)//2))\n",
        "  elif i==size-1:\n",
        "    print('*'*(size*2-1))\n",
        "  else:\n",
        "    print(' '*int(size-1-i)+'*'+' '*((i*2)-1)+'*'+' '*int(size-1-i))"
      ],
      "execution_count": 0,
      "outputs": []
    },
    {
      "cell_type": "code",
      "metadata": {
        "id": "qWR6CDq29iWW",
        "colab_type": "code",
        "colab": {}
      },
      "source": [
        "# 이분탐색"
      ],
      "execution_count": 0,
      "outputs": []
    }
  ]
}