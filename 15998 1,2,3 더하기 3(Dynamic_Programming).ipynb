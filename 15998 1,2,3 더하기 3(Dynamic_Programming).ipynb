{
  "nbformat": 4,
  "nbformat_minor": 0,
  "metadata": {
    "colab": {
      "name": "Untitled10.ipynb",
      "provenance": [],
      "authorship_tag": "ABX9TyNlCixwKIecvzpNPY5COtxL",
      "include_colab_link": true
    },
    "kernelspec": {
      "name": "python3",
      "display_name": "Python 3"
    }
  },
  "cells": [
    {
      "cell_type": "markdown",
      "metadata": {
        "id": "view-in-github",
        "colab_type": "text"
      },
      "source": [
        "<a href=\"https://colab.research.google.com/github/anjunpil/beakjun_coding/blob/master/15998%201%2C2%2C3%20%EB%8D%94%ED%95%98%EA%B8%B0%203(Dynamic_Programming).ipynb\" target=\"_parent\"><img src=\"https://colab.research.google.com/assets/colab-badge.svg\" alt=\"Open In Colab\"/></a>"
      ]
    },
    {
      "cell_type": "code",
      "metadata": {
        "id": "AN5XArsTNSkj",
        "colab_type": "code",
        "colab": {}
      },
      "source": [
        "a=sorted([6,3,2,10,-10])\n",
        "b=[10,9,-5,2,3,4,5,-10]\n",
        "\n",
        "def binarySearch(arr,val,start,last):\n",
        "  if start>last:\n",
        "    False\n",
        "\n",
        "  mid=(start+last)//2\n",
        "  if arr[mid]>val:\n",
        "    return binarySearch(arr,val,start,mid-1)\n",
        "  elif arr[mid]<val:\n",
        "    return binarySearch(arr,val,mid+1,last)\n",
        "  else:\n",
        "    return True\n",
        "\n",
        "for i in b:\n",
        "  if binarySearch(a,i,0,5):\n",
        "    print(1)\n",
        "  else:\n",
        "    print(0)"
      ],
      "execution_count": 0,
      "outputs": []
    },
    {
      "cell_type": "code",
      "metadata": {
        "id": "apmeQaGjQ8op",
        "colab_type": "code",
        "colab": {
          "base_uri": "https://localhost:8080/",
          "height": 233
        },
        "outputId": "cc6d3425-4ec3-4fa3-dcb5-4709e7fa54e3"
      },
      "source": [
        "num=int(input())\n",
        "M=sorted(list(map(int,input().split())))\n",
        "num2=int(input())\n",
        "N=list(map(int,input().split()))\n",
        "\n",
        "def binarySearch(arr,val,start,last):  #새 함수를 만듦\n",
        "  if start>last:   #시작부분이 작아야 실행 가능하게 만듦\n",
        "    return False\n",
        "  mid = (start+last)//2     #중간값지정\n",
        "  if arr[mid]>val:          #val이 작으면 반으로 나눈부분을 다시 반으로 나눔\n",
        "    return binarySearch(arr,val,start,mid-1)\n",
        "  elif arr[mid]<val:\n",
        "    return binarySearch(arr,val,mid+1,last)\n",
        "  else:       #값이 나오면 True 출력 5종료\n",
        "    return True\n",
        "\n",
        "for i in N:\n",
        "  if binarySearch(M,i,0,num-1):\n",
        "    print(1)\n",
        "  else:\n",
        "    print(0)\n"
      ],
      "execution_count": 7,
      "outputs": [
        {
          "output_type": "stream",
          "text": [
            "5\n",
            "6 3 2 10 -10\n",
            "8\n",
            "10 9 -5 2 3 4 5 -10\n",
            "1\n",
            "0\n",
            "0\n",
            "1\n",
            "1\n",
            "0\n",
            "0\n",
            "1\n"
          ],
          "name": "stdout"
        }
      ]
    },
    {
      "cell_type": "code",
      "metadata": {
        "id": "E_FjUOagW3A-",
        "colab_type": "code",
        "colab": {}
      },
      "source": [
        "1 = 1     1\n",
        "2 = 1+1\n",
        "    2     2\n",
        "3 = 1+1+1\n",
        "    1+2\n",
        "    2+1\n",
        "    3     4\n",
        "4 = 1+1+1+1\n",
        "    1+1+2\n",
        "    1+2+1\n",
        "    2+1+1\n",
        "    2+2\n",
        "    1+3\n",
        "    3+1       7\n",
        "\n",
        "    11\n",
        "\n",
        "    18\n",
        "\n",
        "    29"
      ],
      "execution_count": 0,
      "outputs": []
    },
    {
      "cell_type": "code",
      "metadata": {
        "id": "8h_3ltweXZmp",
        "colab_type": "code",
        "colab": {
          "base_uri": "https://localhost:8080/",
          "height": 143
        },
        "outputId": "807f68eb-104b-4c9e-c821-928cff0d6bdf"
      },
      "source": [
        "dp=[0,1,2,4]\n",
        "\n",
        "for i in range(4,1000001):\n",
        "  dp.append((dp[i-1]+dp[i-2]+dp[i-3])%1000000009)\n",
        "n=int(input())\n",
        "for i in range(n):\n",
        "  print(dp[int(input())])\n",
        "\n",
        "#Dynaminc Programming"
      ],
      "execution_count": 35,
      "outputs": [
        {
          "output_type": "stream",
          "text": [
            "3\n",
            "4\n",
            "7\n",
            "7\n",
            "44\n",
            "10\n",
            "274\n"
          ],
          "name": "stdout"
        }
      ]
    }
  ]
}