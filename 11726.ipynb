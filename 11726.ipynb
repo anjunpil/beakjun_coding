{
  "nbformat": 4,
  "nbformat_minor": 0,
  "metadata": {
    "colab": {
      "name": "11726",
      "provenance": [],
      "authorship_tag": "ABX9TyOoPrHxC5Ka0HgK0NjafM/F",
      "include_colab_link": true
    },
    "kernelspec": {
      "name": "python3",
      "display_name": "Python 3"
    }
  },
  "cells": [
    {
      "cell_type": "markdown",
      "metadata": {
        "id": "view-in-github",
        "colab_type": "text"
      },
      "source": [
        "<a href=\"https://colab.research.google.com/github/anjunpil/beakjun_coding/blob/master/11726.ipynb\" target=\"_parent\"><img src=\"https://colab.research.google.com/assets/colab-badge.svg\" alt=\"Open In Colab\"/></a>"
      ]
    },
    {
      "cell_type": "code",
      "metadata": {
        "id": "1Eh_Krk4gHsC",
        "colab_type": "code",
        "colab": {
          "base_uri": "https://localhost:8080/",
          "height": 143
        },
        "outputId": "e1702145-464e-4114-bf99-a8301567d1e8"
      },
      "source": [
        "a,b,c=[0,0,0]\n",
        "for i in range(int(input())):\n",
        "  R,G,B=list(map(int,input().split()))\n",
        "  a,b,c=[min(c,b)+R,min(a,c)+G,min(a,b)+B]\n",
        "  \n",
        "print(min(a,b,c))    "
      ],
      "execution_count": 63,
      "outputs": [
        {
          "output_type": "stream",
          "text": [
            "3\n",
            "26 40 83\n",
            "26 40 83\n",
            "49 60 57\n",
            "89 86 83\n",
            "13 89 99\n",
            "96 172 185\n"
          ],
          "name": "stdout"
        }
      ]
    },
    {
      "cell_type": "code",
      "metadata": {
        "id": "3lrfW48ogrJP",
        "colab_type": "code",
        "colab": {
          "base_uri": "https://localhost:8080/",
          "height": 35
        },
        "outputId": "d7b9eadf-581d-40be-9140-1c0c47ff0b44"
      },
      "source": [
        ""
      ],
      "execution_count": 61,
      "outputs": [
        {
          "output_type": "execute_result",
          "data": {
            "text/plain": [
              "83"
            ]
          },
          "metadata": {
            "tags": []
          },
          "execution_count": 61
        }
      ]
    }
  ]
}