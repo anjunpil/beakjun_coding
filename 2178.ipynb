{
  "nbformat": 4,
  "nbformat_minor": 0,
  "metadata": {
    "colab": {
      "name": "2178",
      "provenance": [],
      "authorship_tag": "ABX9TyOdig7yp6ZqB5478Hc//sCB",
      "include_colab_link": true
    },
    "kernelspec": {
      "name": "python3",
      "display_name": "Python 3"
    }
  },
  "cells": [
    {
      "cell_type": "markdown",
      "metadata": {
        "id": "view-in-github",
        "colab_type": "text"
      },
      "source": [
        "<a href=\"https://colab.research.google.com/github/anjunpil/beakjun_coding/blob/master/2178.ipynb\" target=\"_parent\"><img src=\"https://colab.research.google.com/assets/colab-badge.svg\" alt=\"Open In Colab\"/></a>"
      ]
    },
    {
      "cell_type": "code",
      "metadata": {
        "id": "8JRRFp8hKPM5",
        "colab_type": "code",
        "outputId": "8af3ee32-0fd6-4eac-8d46-14802c31720b",
        "colab": {
          "base_uri": "https://localhost:8080/",
          "height": 53
        }
      },
      "source": [
        "a=int(input())\n",
        "if a ==1:\n",
        "  print(666)\n",
        "else:\n",
        "  a=a-1\n",
        "  print(str(a)+'666')"
      ],
      "execution_count": 0,
      "outputs": [
        {
          "output_type": "stream",
          "text": [
            "1\n",
            "666\n"
          ],
          "name": "stdout"
        }
      ]
    },
    {
      "cell_type": "code",
      "metadata": {
        "id": "bqWE7rMUR1Ye",
        "colab_type": "code",
        "outputId": "3fe2d97e-f62c-45ae-aa39-a6db5dc73214",
        "colab": {
          "base_uri": "https://localhost:8080/",
          "height": 53
        }
      },
      "source": [
        "n = int(input())\n",
        "init = 666\n",
        "count=0\n",
        "while(n):\n",
        "  if '666' in str(init):\n",
        "    count+=1\n",
        "  if count ==n:\n",
        "    break\n",
        "  init = init+1\n",
        "print(init) "
      ],
      "execution_count": 0,
      "outputs": [
        {
          "output_type": "stream",
          "text": [
            "4\n",
            "666\n"
          ],
          "name": "stdout"
        }
      ]
    },
    {
      "cell_type": "code",
      "metadata": {
        "id": "gpEUFNDhrBk3",
        "colab_type": "code",
        "colab": {
          "base_uri": "https://localhost:8080/",
          "height": 55
        },
        "outputId": "92d0f3da-7821-443c-b078-ef1a46ccc22c"
      },
      "source": [
        "graph = {\n",
        "    'A': ['B'],\n",
        "    'B': ['A', 'C', 'H'],\n",
        "    'C': ['B', 'D'],\n",
        "    'D': ['C', 'E', 'G'],\n",
        "    'E': ['D', 'F'],\n",
        "    'F': ['E'],\n",
        "    'G': ['D'],\n",
        "    'H': ['B', 'I', 'J', 'M'],\n",
        "    'I': ['H'],\n",
        "    'J': ['H', 'K'],\n",
        "    'K': ['J', 'L'],\n",
        "    'L': ['K'],\n",
        "    'M': ['H']\n",
        "}\n",
        "\n",
        "def bfs(graph,start_node):\n",
        "  visit=[]\n",
        "  queue=[]\n",
        "  queue.append(start_node)\n",
        "  while queue:\n",
        "    node=queue.pop(0)\n",
        "    print(node,'1')\n",
        "    if node not in visit:\n",
        "      visit.append(node)\n",
        "      queue.extend(graph[node])\n",
        "      print(visit,'2')\n",
        "      print(queue,'3')\n",
        "  return visit\n"
      ],
      "execution_count": 16,
      "outputs": [
        {
          "output_type": "stream",
          "text": [
            "ERROR! Session/line number was not unique in database. History logging moved to new session 61\n"
          ],
          "name": "stdout"
        }
      ]
    },
    {
      "cell_type": "code",
      "metadata": {
        "id": "x2uqS_2yrsas",
        "colab_type": "code",
        "colab": {
          "base_uri": "https://localhost:8080/",
          "height": 953
        },
        "outputId": "b593e0d1-dbf4-462c-9e79-9868ab74bceb"
      },
      "source": [
        "bfs(graph,'A')\n",
        "#graph['B']"
      ],
      "execution_count": 17,
      "outputs": [
        {
          "output_type": "stream",
          "text": [
            "A 1\n",
            "['A'] 2\n",
            "['B'] 3\n",
            "B 1\n",
            "['A', 'B'] 2\n",
            "['A', 'C', 'H'] 3\n",
            "A 1\n",
            "C 1\n",
            "['A', 'B', 'C'] 2\n",
            "['H', 'B', 'D'] 3\n",
            "H 1\n",
            "['A', 'B', 'C', 'H'] 2\n",
            "['B', 'D', 'B', 'I', 'J', 'M'] 3\n",
            "B 1\n",
            "D 1\n",
            "['A', 'B', 'C', 'H', 'D'] 2\n",
            "['B', 'I', 'J', 'M', 'C', 'E', 'G'] 3\n",
            "B 1\n",
            "I 1\n",
            "['A', 'B', 'C', 'H', 'D', 'I'] 2\n",
            "['J', 'M', 'C', 'E', 'G', 'H'] 3\n",
            "J 1\n",
            "['A', 'B', 'C', 'H', 'D', 'I', 'J'] 2\n",
            "['M', 'C', 'E', 'G', 'H', 'H', 'K'] 3\n",
            "M 1\n",
            "['A', 'B', 'C', 'H', 'D', 'I', 'J', 'M'] 2\n",
            "['C', 'E', 'G', 'H', 'H', 'K', 'H'] 3\n",
            "C 1\n",
            "E 1\n",
            "['A', 'B', 'C', 'H', 'D', 'I', 'J', 'M', 'E'] 2\n",
            "['G', 'H', 'H', 'K', 'H', 'D', 'F'] 3\n",
            "G 1\n",
            "['A', 'B', 'C', 'H', 'D', 'I', 'J', 'M', 'E', 'G'] 2\n",
            "['H', 'H', 'K', 'H', 'D', 'F', 'D'] 3\n",
            "H 1\n",
            "H 1\n",
            "K 1\n",
            "['A', 'B', 'C', 'H', 'D', 'I', 'J', 'M', 'E', 'G', 'K'] 2\n",
            "['H', 'D', 'F', 'D', 'J', 'L'] 3\n",
            "H 1\n",
            "D 1\n",
            "F 1\n",
            "['A', 'B', 'C', 'H', 'D', 'I', 'J', 'M', 'E', 'G', 'K', 'F'] 2\n",
            "['D', 'J', 'L', 'E'] 3\n",
            "D 1\n",
            "J 1\n",
            "L 1\n",
            "['A', 'B', 'C', 'H', 'D', 'I', 'J', 'M', 'E', 'G', 'K', 'F', 'L'] 2\n",
            "['E', 'K'] 3\n",
            "E 1\n",
            "K 1\n"
          ],
          "name": "stdout"
        },
        {
          "output_type": "execute_result",
          "data": {
            "text/plain": [
              "['A', 'B', 'C', 'H', 'D', 'I', 'J', 'M', 'E', 'G', 'K', 'F', 'L']"
            ]
          },
          "metadata": {
            "tags": []
          },
          "execution_count": 17
        }
      ]
    },
    {
      "cell_type": "code",
      "metadata": {
        "id": "LWn6ILHE3Iz-",
        "colab_type": "code",
        "colab": {
          "base_uri": "https://localhost:8080/",
          "height": 107
        },
        "outputId": "7adba65b-6bb9-4f68-92fb-f48aa6c00325"
      },
      "source": [
        "m,n=input().split()\n",
        "mn=[]\n",
        "for i in range(int(m)):\n",
        "  mn.append(list(mamp(int,input())))\n",
        "\n",
        "#def bfs()"
      ],
      "execution_count": 35,
      "outputs": [
        {
          "output_type": "stream",
          "text": [
            "4 6\n",
            "101111\n",
            "101010\n",
            "101011\n",
            "111011\n"
          ],
          "name": "stdout"
        }
      ]
    },
    {
      "cell_type": "code",
      "metadata": {
        "id": "4_uAr4nG45hc",
        "colab_type": "code",
        "colab": {
          "base_uri": "https://localhost:8080/",
          "height": 89
        },
        "outputId": "8a90fb8b-84e6-43be-b0da-cac01551444e"
      },
      "source": [
        "def bfs(mn):\n",
        "  start_node=mn[0][0]\n",
        "  start=(0,0)\n",
        "  visit=0\n",
        "  queue=queue.append(start)\n",
        "  while mn:\n",
        "    x,y=queue.pop(0)\n",
        "    value=mn[x][y]\n",
        "    if value ==1:\n",
        "      visit+=1\n",
        "       x+=1\n",
        "\n",
        "    "
      ],
      "execution_count": 36,
      "outputs": [
        {
          "output_type": "execute_result",
          "data": {
            "text/plain": [
              "[[1, 0, 1, 1, 1, 1],\n",
              " [1, 0, 1, 0, 1, 0],\n",
              " [1, 0, 1, 0, 1, 1],\n",
              " [1, 1, 1, 0, 1, 1]]"
            ]
          },
          "metadata": {
            "tags": []
          },
          "execution_count": 36
        }
      ]
    },
    {
      "cell_type": "code",
      "metadata": {
        "id": "Yevxb1j04TS4",
        "colab_type": "code",
        "colab": {
          "base_uri": "https://localhost:8080/",
          "height": 35
        },
        "outputId": "71bbc392-6c31-40d6-8df4-08ac55ef99c4"
      },
      "source": [
        "q=[]\n",
        "q.append((0,0))\n",
        "\n",
        "x,y=q.pop(0)\n",
        "x"
      ],
      "execution_count": 45,
      "outputs": [
        {
          "output_type": "execute_result",
          "data": {
            "text/plain": [
              "0"
            ]
          },
          "metadata": {
            "tags": []
          },
          "execution_count": 45
        }
      ]
    },
    {
      "cell_type": "code",
      "metadata": {
        "id": "JssPFtR54ru8",
        "colab_type": "code",
        "colab": {
          "base_uri": "https://localhost:8080/",
          "height": 35
        },
        "outputId": "2e270933-b6ca-49c9-d03c-9ad9cecb3438"
      },
      "source": [
        "a"
      ],
      "execution_count": 31,
      "outputs": [
        {
          "output_type": "execute_result",
          "data": {
            "text/plain": [
              "[1, 2, 3]"
            ]
          },
          "metadata": {
            "tags": []
          },
          "execution_count": 31
        }
      ]
    },
    {
      "cell_type": "code",
      "metadata": {
        "id": "qbFV5Bd_wM1Y",
        "colab_type": "code",
        "colab": {
          "base_uri": "https://localhost:8080/",
          "height": 125
        },
        "outputId": "9e95a68d-4a21-4bac-a786-8c93493489d6"
      },
      "source": [
        "from collections import deque\n",
        "dx=[0,0,1,-1]\n",
        "dy=[1,-1,0,0]\n",
        "\n",
        "n,m = map(int,input().split())\n",
        "a=[list(map(int,list(input()))) for _ in range(n)]\n",
        "q= deque()\n",
        "check =[[False]*m for _ in range(n)]\n",
        "dist = [[0]*m for _ in range(n)]\n",
        "\n",
        "q.append((0,0))\n",
        "check[0][0] =True\n",
        "dist[0][0] = 1\n",
        "while q:\n",
        "  x,y =q.popleft()\n",
        "  #4 6\n",
        "  #print(x,y)\n",
        "  for k in range(4):\n",
        "    nx,ny = x+dx[k],y+dy[k]\n",
        "    if 0 <= nx < n and 0<=ny <m:\n",
        "      if check[nx][ny] == False and a[nx][ny] ==1:\n",
        "        q.append((nx,ny))\n",
        "        #print(q,'q.append')\n",
        "        dist[nx][ny] = dist[x][y] +1\n",
        "        check[nx][ny] = True\n",
        "print(dist[n-1][m-1])"
      ],
      "execution_count": 70,
      "outputs": [
        {
          "output_type": "stream",
          "text": [
            "4 6\n",
            "101111\n",
            "101010\n",
            "101011\n",
            "111011\n",
            "15\n"
          ],
          "name": "stdout"
        }
      ]
    },
    {
      "cell_type": "code",
      "metadata": {
        "id": "dBuBrmwFN7XR",
        "colab_type": "code",
        "colab": {
          "base_uri": "https://localhost:8080/",
          "height": 89
        },
        "outputId": "718e6019-7aa8-4e18-9d40-3b437a59e25a"
      },
      "source": [
        "a"
      ],
      "execution_count": 72,
      "outputs": [
        {
          "output_type": "execute_result",
          "data": {
            "text/plain": [
              "[[1, 0, 1, 1, 1, 1],\n",
              " [1, 0, 1, 0, 1, 0],\n",
              " [1, 0, 1, 0, 1, 1],\n",
              " [1, 1, 1, 0, 1, 1]]"
            ]
          },
          "metadata": {
            "tags": []
          },
          "execution_count": 72
        }
      ]
    },
    {
      "cell_type": "code",
      "metadata": {
        "id": "fCStjKOWJOK9",
        "colab_type": "code",
        "colab": {
          "base_uri": "https://localhost:8080/",
          "height": 415
        },
        "outputId": "e7d1e601-53e0-4684-d396-148ebe3247f0"
      },
      "source": [
        "from collections import deque\n",
        "\n",
        "dx=[0,0,1,-1]\n",
        "dy=[1,-1,0,0]\n",
        "#m,n=map(int,input().split())\n",
        "m,n=4,6\n",
        "check = [[False]*n for _ in range(m)]\n",
        "b=[]\n",
        "for i in range(m):\n",
        "  b.append(list(map(int,input())))\n",
        "dist =[[0]*n for _ in range(m)]\n",
        "dist[0][0]=1\n",
        "q=deque()\n",
        "check[0][0]=True\n",
        "q.append((0,0))\n",
        "\n",
        "while q:\n",
        "  x,y = q.popleft()\n",
        "  for k in range(4):\n",
        "    nx, ny = x+dx[k],y+dy[k]\n",
        "    if 0<= nx <m and 0 <= ny < n :\n",
        "      if check[nx][ny] == False and b[nx][ny]==1:\n",
        "        check[nx][ny] =True\n",
        "        q.append((nx,ny))\n",
        "        dist[nx][ny]=dist[x][y] +1\n",
        "print(dist[m-1][n-1])\n",
        "'''while q:\n",
        "  x,y =q.popleft()\n",
        "  #4 6\n",
        "  #print(x,y)\n",
        "  for k in range(4):\n",
        "    nx,ny = x+dx[k],y+dy[k]\n",
        "    if 0 <= nx < n and 0<=ny <m:\n",
        "      if check[nx][ny] == False and b[nx][ny] ==1:\n",
        "        q.append((nx,ny))\n",
        "        #print(q,'q.append')\n",
        "        dist[nx][ny] = dist[x][y] +1\n",
        "        check[nx][ny] = True        \n",
        "\n",
        "'''"
      ],
      "execution_count": 93,
      "outputs": [
        {
          "output_type": "stream",
          "text": [
            "101111\n",
            "101010\n",
            "101011\n",
            "111011\n",
            "deque([(1, 0)])\n",
            "deque([(2, 0)])\n",
            "deque([(3, 0)])\n",
            "deque([(3, 1)])\n",
            "deque([(3, 2)])\n",
            "deque([(2, 2)])\n",
            "deque([(1, 2)])\n",
            "deque([(0, 2)])\n",
            "deque([(0, 3)])\n",
            "deque([(0, 4)])\n",
            "deque([(0, 5)])\n",
            "deque([(0, 5), (1, 4)])\n",
            "deque([(2, 4)])\n",
            "deque([(2, 5)])\n",
            "deque([(2, 5), (3, 4)])\n",
            "deque([(3, 4), (3, 5)])\n"
          ],
          "name": "stdout"
        },
        {
          "output_type": "execute_result",
          "data": {
            "text/plain": [
              "\"while q:\\n  x,y =q.popleft()\\n  #4 6\\n  #print(x,y)\\n  for k in range(4):\\n    nx,ny = x+dx[k],y+dy[k]\\n    if 0 <= nx < n and 0<=ny <m:\\n      if check[nx][ny] == False and b[nx][ny] ==1:\\n        q.append((nx,ny))\\n        #print(q,'q.append')\\n        dist[nx][ny] = dist[x][y] +1\\n        check[nx][ny] = True        \\n\\n\""
            ]
          },
          "metadata": {
            "tags": []
          },
          "execution_count": 93
        }
      ]
    },
    {
      "cell_type": "code",
      "metadata": {
        "id": "_X58lpPtK7LW",
        "colab_type": "code",
        "colab": {
          "base_uri": "https://localhost:8080/",
          "height": 35
        },
        "outputId": "2e2fb50d-29ff-44cb-fe86-b50afe849767"
      },
      "source": [
        "dist[m-1][n-1]"
      ],
      "execution_count": 98,
      "outputs": [
        {
          "output_type": "execute_result",
          "data": {
            "text/plain": [
              "15"
            ]
          },
          "metadata": {
            "tags": []
          },
          "execution_count": 98
        }
      ]
    },
    {
      "cell_type": "code",
      "metadata": {
        "id": "znHd2Q0XKCBU",
        "colab_type": "code",
        "colab": {
          "base_uri": "https://localhost:8080/",
          "height": 55
        },
        "outputId": "11deedb4-4da9-4de3-89eb-705dd2aacf71"
      },
      "source": [
        "for i in range(5):\n",
        "  'False'"
      ],
      "execution_count": 58,
      "outputs": [
        {
          "output_type": "stream",
          "text": [
            "ERROR! Session/line number was not unique in database. History logging moved to new session 70\n"
          ],
          "name": "stdout"
        }
      ]
    },
    {
      "cell_type": "code",
      "metadata": {
        "id": "UbB-gcVTFbj9",
        "colab_type": "code",
        "colab": {
          "base_uri": "https://localhost:8080/",
          "height": 35
        },
        "outputId": "86091223-aac1-437d-e5c4-23b865b7da42"
      },
      "source": [
        "from collections import deque\n",
        "a=deque([1,2,3,4])"
      ],
      "execution_count": 57,
      "outputs": [
        {
          "output_type": "execute_result",
          "data": {
            "text/plain": [
              "deque([2, 3, 4, 2])"
            ]
          },
          "metadata": {
            "tags": []
          },
          "execution_count": 57
        }
      ]
    }
  ]
}