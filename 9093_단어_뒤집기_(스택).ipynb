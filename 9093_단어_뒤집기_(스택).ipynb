{
  "nbformat": 4,
  "nbformat_minor": 0,
  "metadata": {
    "colab": {
      "name": "9093 단어 뒤집기 (스택).ipynb",
      "provenance": [],
      "authorship_tag": "ABX9TyOi2ViXXypdraEY5bii0xxd",
      "include_colab_link": true
    },
    "kernelspec": {
      "name": "python3",
      "display_name": "Python 3"
    }
  },
  "cells": [
    {
      "cell_type": "markdown",
      "metadata": {
        "id": "view-in-github",
        "colab_type": "text"
      },
      "source": [
        "<a href=\"https://colab.research.google.com/github/anjunpil/beakjun_coding/blob/master/9093_%EB%8B%A8%EC%96%B4_%EB%92%A4%EC%A7%91%EA%B8%B0_(%EC%8A%A4%ED%83%9D).ipynb\" target=\"_parent\"><img src=\"https://colab.research.google.com/assets/colab-badge.svg\" alt=\"Open In Colab\"/></a>"
      ]
    },
    {
      "cell_type": "code",
      "metadata": {
        "id": "b6jbZ9dehEME",
        "colab_type": "code",
        "colab": {}
      },
      "source": [
        "#스택에 관한 문제\n",
        "\n",
        "\n",
        "class Stack():            #stack class를 만들어 줬음\n",
        "  def __init__(self):\n",
        "    self.list=[]\n",
        "    self.len=0\n",
        "\n",
        "  def push(self,i):\n",
        "     self.list.append(i)\n",
        "     return self.list\n",
        "\n",
        "  def pop(self):\n",
        "    return self.list.pop()\n",
        "\n",
        "a=input()\n",
        "rev=''\n",
        "\n",
        "for i in a:\n",
        "  s.push(i)\n",
        "\n",
        "while s.list:\n",
        "  rev+=s.pop()\n",
        "print(rev)\n",
        "\n",
        "#스택 함수를 만들어 쓰는 것이 쉽지 않다 ㅜㅜ 더 공부해야할 듯"
      ],
      "execution_count": 0,
      "outputs": []
    },
    {
      "cell_type": "code",
      "metadata": {
        "id": "aieyczhOhH8O",
        "colab_type": "code",
        "colab": {}
      },
      "source": [
        "n=int(input())\n",
        "for i in range(n):\n",
        "  a=list(input().split())\n",
        "  for j in a:\n",
        "    print(j[::-1],end=\" \")   #리스트 함수로 거꾸로 출력해 줄수 있음\n",
        "  print()"
      ],
      "execution_count": 0,
      "outputs": []
    }
  ]
}