{
  "nbformat": 4,
  "nbformat_minor": 0,
  "metadata": {
    "colab": {
      "name": "11004 k번째 수(정렬).ipynb",
      "provenance": [],
      "authorship_tag": "ABX9TyO4ofTKwn3P02P+oi5BGxZN",
      "include_colab_link": true
    },
    "kernelspec": {
      "name": "python3",
      "display_name": "Python 3"
    }
  },
  "cells": [
    {
      "cell_type": "markdown",
      "metadata": {
        "id": "view-in-github",
        "colab_type": "text"
      },
      "source": [
        "<a href=\"https://colab.research.google.com/github/anjunpil/beakjun_coding/blob/master/11004_k%EB%B2%88%EC%A7%B8_%EC%88%98(%EC%A0%95%EB%A0%AC).ipynb\" target=\"_parent\"><img src=\"https://colab.research.google.com/assets/colab-badge.svg\" alt=\"Open In Colab\"/></a>"
      ]
    },
    {
      "cell_type": "code",
      "metadata": {
        "id": "0bf0nrywdURE",
        "colab_type": "code",
        "colab": {
          "base_uri": "https://localhost:8080/",
          "height": 70
        },
        "outputId": "eae9022a-c134-4b84-c61f-8ac3e7e3f6a8"
      },
      "source": [
        "n,k= map(int,input().split())\n",
        "num=list(map(int,input().split()))\n",
        "\n",
        "#print(num.sort()[k])\n",
        "num.sort()\n",
        "print(num[k-1])"
      ],
      "execution_count": 73,
      "outputs": [
        {
          "output_type": "stream",
          "text": [
            "5 2\n",
            "4 1 2 3 5\n",
            "2\n"
          ],
          "name": "stdout"
        }
      ]
    }
  ]
}