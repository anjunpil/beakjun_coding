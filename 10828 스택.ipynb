{
  "nbformat": 4,
  "nbformat_minor": 0,
  "metadata": {
    "colab": {
      "name": "Untitled9.ipynb",
      "provenance": [],
      "authorship_tag": "ABX9TyO6+vlF9Km0i5bPWVLcLrdH",
      "include_colab_link": true
    },
    "kernelspec": {
      "name": "python3",
      "display_name": "Python 3"
    }
  },
  "cells": [
    {
      "cell_type": "markdown",
      "metadata": {
        "id": "view-in-github",
        "colab_type": "text"
      },
      "source": [
        "<a href=\"https://colab.research.google.com/github/anjunpil/beakjun_coding/blob/master/Untitled9.ipynb\" target=\"_parent\"><img src=\"https://colab.research.google.com/assets/colab-badge.svg\" alt=\"Open In Colab\"/></a>"
      ]
    },
    {
      "cell_type": "code",
      "metadata": {
        "id": "VtOqYe4gXrhc",
        "colab_type": "code",
        "colab": {}
      },
      "source": [
        "class Stack():      #stack class 생성\n",
        "  def __init__(self):\n",
        "    self.len =0\n",
        "    self.list=[]\n",
        "\n",
        "  def push(self,num):\n",
        "    self.list.append(num)\n",
        "    self.len+=1\n",
        "    return num\n",
        "\n",
        "  def pop(self):\n",
        "    if self.size() ==0:\n",
        "      return -1\n",
        "    else:\n",
        "      self.len -=1\n",
        "      return self.list.pop() \n",
        "\n",
        "  def size(self):\n",
        "    return self.len\n",
        "\n",
        "  def empty(self):\n",
        "    if self.len ==0:\n",
        "      return 1\n",
        "    else:\n",
        "      return 0\n",
        "\n",
        "  def top(self):\n",
        "    if self.len ==0:\n",
        "      return -1\n",
        "    else:\n",
        "      return self.list[-1]\n",
        "\n",
        "\n",
        "stack=Stack() \n",
        "n=int(input())\n",
        "for i in range(int(n)):\n",
        "  name=input()\n",
        "  if name.split()[0] == 'push':\n",
        "    print(stack.push(int(name.split()[1])))\n",
        "  elif name == 'pop':\n",
        "    print(stack.pop())\n",
        "  elif name == 'size':\n",
        "    print(stack.size())\n",
        "  elif name == 'empty':\n",
        "    print(stack.empty())\n",
        "  else:\n",
        "    print(stack.top())"
      ],
      "execution_count": 0,
      "outputs": []
    }
  ]
}
