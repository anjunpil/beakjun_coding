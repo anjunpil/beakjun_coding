{
  "nbformat": 4,
  "nbformat_minor": 0,
  "metadata": {
    "colab": {
      "name": "Untitled9.ipynb",
      "provenance": [],
      "authorship_tag": "ABX9TyNhX0XC+ZImSZINFDpQQArF",
      "include_colab_link": true
    },
    "kernelspec": {
      "name": "python3",
      "display_name": "Python 3"
    }
  },
  "cells": [
    {
      "cell_type": "markdown",
      "metadata": {
        "id": "view-in-github",
        "colab_type": "text"
      },
      "source": [
        "<a href=\"https://colab.research.google.com/github/anjunpil/beakjun_coding/blob/master/1920%20%EC%88%98%20%EC%B0%BE%EA%B8%B0(binarySearch).ipynb\" target=\"_parent\"><img src=\"https://colab.research.google.com/assets/colab-badge.svg\" alt=\"Open In Colab\"/></a>"
      ]
    },
    {
      "cell_type": "code",
      "metadata": {
        "id": "91sDWaKywda0",
        "colab_type": "code",
        "colab": {}
      },
      "source": [
        "num=int(input())\n",
        "a=sorted(list(map(int,input().split())))\n",
        "num2=int(input())\n",
        "b=list(map(int,input().split()))\n",
        "\n",
        "def binarysearch(arr,val,low,high):\n",
        "  if low>high:\n",
        "    return False\n",
        "  mid =(low+high)//2\n",
        "  if arr[mid]>val:\n",
        "    return binarysearch(arr,val,low,mid-1)\n",
        "  elif arr[mid]<val:\n",
        "    return binarysearch(arr,val,mid+1,high)\n",
        "  else:\n",
        "    return True\n",
        "\n",
        "for i in b:\n",
        "  if binarysearch(a,i,0,num-1):\n",
        "    print(1)\n",
        "  else:\n",
        "    print(0) \n"
      ],
      "execution_count": 0,
      "outputs": []
    },
    {
      "cell_type": "code",
      "metadata": {
        "id": "O9xiFkObyCUM",
        "colab_type": "code",
        "colab": {}
      },
      "source": [
        "num=int(input())\n",
        "M=sorted(list(map(int,input().split())))\n",
        "num2=int(input())\n",
        "N=list(map(int,input().split()))\n",
        "\n",
        "def binarySearch(arr,val,start,last):  #새 함수를 만듦\n",
        "  if start>last:   #시작부분이 작아야 실행 가능하게 만듦\n",
        "    return False\n",
        "  mid = (start+last)//2     #중간값지정\n",
        "  if arr[mid]>val:          #val이 작으면 반으로 나눈부분을 다시 반으로 나눔\n",
        "    return binarySearch(arr,val,start,mid-1)\n",
        "  elif arr[mid]<val:\n",
        "    return binarySearch(arr,val,mid+1,last)\n",
        "  else:       #값이 나오면 True 출력 종료\n",
        "    return True\n",
        "\n",
        "for i in N:\n",
        "  if binarySearch(M,i,0,num-1):\n",
        "    print(1)\n",
        "  else:\n",
        "    print(0)"
      ],
      "execution_count": 0,
      "outputs": []
    },
    {
      "cell_type": "code",
      "metadata": {
        "id": "QHVtk4gd1XRI",
        "colab_type": "code",
        "colab": {}
      },
      "source": [
        "input()\n",
        "a=set(map(int,input().split()))   #set함수 이용 중복값 제거,정렬\n",
        "input()\n",
        "for i in input().split():\n",
        "  print(1 if int(i) in a else 0)\n"
      ],
      "execution_count": 0,
      "outputs": []
    }
  ]
}