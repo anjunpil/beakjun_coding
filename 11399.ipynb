{
  "nbformat": 4,
  "nbformat_minor": 0,
  "metadata": {
    "colab": {
      "name": "11399",
      "provenance": [],
      "collapsed_sections": [],
      "authorship_tag": "ABX9TyMtL6qY16RNFzlYNtrzUGXX",
      "include_colab_link": true
    },
    "kernelspec": {
      "name": "python3",
      "display_name": "Python 3"
    }
  },
  "cells": [
    {
      "cell_type": "markdown",
      "metadata": {
        "id": "view-in-github",
        "colab_type": "text"
      },
      "source": [
        "<a href=\"https://colab.research.google.com/github/anjunpil/beakjun_coding/blob/master/11399.ipynb\" target=\"_parent\"><img src=\"https://colab.research.google.com/assets/colab-badge.svg\" alt=\"Open In Colab\"/></a>"
      ]
    },
    {
      "cell_type": "code",
      "metadata": {
        "id": "X4VktmQz0vQd",
        "colab_type": "code",
        "outputId": "53c281f5-b769-444d-cb57-d0190e6c5913",
        "colab": {
          "base_uri": "https://localhost:8080/",
          "height": 53
        }
      },
      "source": [
        "n=int(input())\n",
        "Min=list(map(int,input().split()))\n",
        "  "
      ],
      "execution_count": 3,
      "outputs": [
        {
          "output_type": "stream",
          "text": [
            "5\n",
            "3 1 4 3 2\n"
          ],
          "name": "stdout"
        }
      ]
    },
    {
      "cell_type": "code",
      "metadata": {
        "id": "m8UnkS_iiQ_Y",
        "colab_type": "code",
        "colab": {
          "base_uri": "https://localhost:8080/",
          "height": 71
        },
        "outputId": "e74b398b-4f64-440e-ee52-48bd3fb2be5b"
      },
      "source": [
        "n=int(input())\n",
        "Min=list(map(int,input().split()))\n",
        "Min=sorted(Min,reverse=False)\n",
        "for i in range(1,n):\n",
        "  Min[i] = Min[i-1]+Min[i]\n",
        "print(sum(Min))"
      ],
      "execution_count": 11,
      "outputs": [
        {
          "output_type": "stream",
          "text": [
            "5\n",
            "3 1 4 3 2\n",
            "32\n"
          ],
          "name": "stdout"
        }
      ]
    }
  ]
}