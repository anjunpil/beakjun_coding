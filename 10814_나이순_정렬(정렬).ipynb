{
  "nbformat": 4,
  "nbformat_minor": 0,
  "metadata": {
    "colab": {
      "name": "10814 나이순 정렬(정렬).ipynb",
      "provenance": [],
      "authorship_tag": "ABX9TyO0BRskQ+mdXcMrumIZ6vsS",
      "include_colab_link": true
    },
    "kernelspec": {
      "name": "python3",
      "display_name": "Python 3"
    }
  },
  "cells": [
    {
      "cell_type": "markdown",
      "metadata": {
        "id": "view-in-github",
        "colab_type": "text"
      },
      "source": [
        "<a href=\"https://colab.research.google.com/github/anjunpil/beakjun_coding/blob/master/10814_%EB%82%98%EC%9D%B4%EC%88%9C_%EC%A0%95%EB%A0%AC(%EC%A0%95%EB%A0%AC).ipynb\" target=\"_parent\"><img src=\"https://colab.research.google.com/assets/colab-badge.svg\" alt=\"Open In Colab\"/></a>"
      ]
    },
    {
      "cell_type": "code",
      "metadata": {
        "id": "0bf0nrywdURE",
        "colab_type": "code",
        "colab": {}
      },
      "source": [
        "n= int(input())\n",
        "b=[]\n",
        "for i in range(n):\n",
        "  b.append(list(input().split()))\n",
        "b.sort(key=lambda x: (int(x[0]))) #index 0을 기준으로 정렬\n",
        "for i in b:\n",
        "  print(*i)"
      ],
      "execution_count": 0,
      "outputs": []
    },
    {
      "cell_type": "code",
      "metadata": {
        "id": "e0u47qWhLfyS",
        "colab_type": "code",
        "colab": {
          "base_uri": "https://localhost:8080/",
          "height": 70
        },
        "outputId": "0525e659-fc51-48e6-8ffb-5e4514bf183c"
      },
      "source": [
        "#n= [[20,'sunyoung'],[21,'junkyu'],[21,'dohyun']]\n",
        "#b=[]\n",
        "#for i in range(n):\n",
        "#  b.append(list(input().split()))\n",
        "b=[[20,'sunyoung'],[21,'junkyu'],[21,'dohyun']]\n",
        "\n",
        "b.sort(key=lambda x: (int(x[0]))) #index 0을 기준으로 정렬\n",
        "for i in b:\n",
        "  print(*i)"
      ],
      "execution_count": 24,
      "outputs": [
        {
          "output_type": "stream",
          "text": [
            "20 sunyoung\n",
            "21 junkyu\n",
            "21 dohyun\n"
          ],
          "name": "stdout"
        }
      ]
    }
  ]
}