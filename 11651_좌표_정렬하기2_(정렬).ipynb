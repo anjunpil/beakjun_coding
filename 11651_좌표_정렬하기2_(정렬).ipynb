{
  "nbformat": 4,
  "nbformat_minor": 0,
  "metadata": {
    "colab": {
      "name": "11651 좌표 정렬하기2 (정렬).ipynb",
      "provenance": [],
      "authorship_tag": "ABX9TyMVhFVJFeAqZUXdZtFWbUJO",
      "include_colab_link": true
    },
    "kernelspec": {
      "name": "python3",
      "display_name": "Python 3"
    }
  },
  "cells": [
    {
      "cell_type": "markdown",
      "metadata": {
        "id": "view-in-github",
        "colab_type": "text"
      },
      "source": [
        "<a href=\"https://colab.research.google.com/github/anjunpil/beakjun_coding/blob/master/11651_%EC%A2%8C%ED%91%9C_%EC%A0%95%EB%A0%AC%ED%95%98%EA%B8%B02_(%EC%A0%95%EB%A0%AC).ipynb\" target=\"_parent\"><img src=\"https://colab.research.google.com/assets/colab-badge.svg\" alt=\"Open In Colab\"/></a>"
      ]
    },
    {
      "cell_type": "code",
      "metadata": {
        "id": "0bf0nrywdURE",
        "colab_type": "code",
        "colab": {
          "base_uri": "https://localhost:8080/",
          "height": 212
        },
        "outputId": "4567c85d-59f0-40e2-ea31-d08272de5732"
      },
      "source": [
        "n= int(input())\n",
        "b=[]\n",
        "for i in range(n):\n",
        "  b.append(list(map(int,input().split())))\n",
        "b.sort(key = lambda x : (x[1],x[0]))  #sort를 인덱스 두번째로 함\n",
        "\n",
        "for i in b:\n",
        "  print(*i)"
      ],
      "execution_count": 3,
      "outputs": [
        {
          "output_type": "stream",
          "text": [
            "5\n",
            "0 4\n",
            "1 2\n",
            "1 -1\n",
            "2 2\n",
            "3 3\n",
            "1 -1\n",
            "1 2\n",
            "2 2\n",
            "3 3\n",
            "0 4\n"
          ],
          "name": "stdout"
        }
      ]
    }
  ]
}