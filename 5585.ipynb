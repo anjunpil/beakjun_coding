{
  "nbformat": 4,
  "nbformat_minor": 0,
  "metadata": {
    "colab": {
      "name": "5585",
      "provenance": [],
      "collapsed_sections": [],
      "authorship_tag": "ABX9TyMUdGqRqNiL6x+csegJc70+",
      "include_colab_link": true
    },
    "kernelspec": {
      "name": "python3",
      "display_name": "Python 3"
    }
  },
  "cells": [
    {
      "cell_type": "markdown",
      "metadata": {
        "id": "view-in-github",
        "colab_type": "text"
      },
      "source": [
        "<a href=\"https://colab.research.google.com/github/anjunpil/beakjun_coding/blob/master/5585.ipynb\" target=\"_parent\"><img src=\"https://colab.research.google.com/assets/colab-badge.svg\" alt=\"Open In Colab\"/></a>"
      ]
    },
    {
      "cell_type": "code",
      "metadata": {
        "id": "PhFGSl2XnauS",
        "colab_type": "code",
        "outputId": "777db73e-94a0-48de-a4e6-eb7701c09747",
        "colab": {
          "base_uri": "https://localhost:8080/",
          "height": 53
        }
      },
      "source": [
        "n= 1000-int(input())\n",
        "e = [500,100,50,10,5,1]\n",
        "\n",
        "count=0\n",
        "for i in e:\n",
        "  count+=n//i\n",
        "  n%=i\n",
        "  if n==0:\n",
        "    break\n",
        "  \n",
        "print(count)"
      ],
      "execution_count": 34,
      "outputs": [
        {
          "output_type": "stream",
          "text": [
            "380\n",
            "4\n"
          ],
          "name": "stdout"
        }
      ]
    }
  ]
}