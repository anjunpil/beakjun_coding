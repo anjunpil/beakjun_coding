{
  "nbformat": 4,
  "nbformat_minor": 0,
  "metadata": {
    "colab": {
      "name": "1912_수의_합_(DP).ipynb",
      "provenance": [],
      "authorship_tag": "ABX9TyNcm4ar0+ulPoqYXG8//tGF",
      "include_colab_link": true
    },
    "kernelspec": {
      "name": "python3",
      "display_name": "Python 3"
    }
  },
  "cells": [
    {
      "cell_type": "markdown",
      "metadata": {
        "id": "view-in-github",
        "colab_type": "text"
      },
      "source": [
        "<a href=\"https://colab.research.google.com/github/anjunpil/beakjun_coding/blob/master/1912_%EC%88%98%EC%9D%98_%ED%95%A9_(DP).ipynb\" target=\"_parent\"><img src=\"https://colab.research.google.com/assets/colab-badge.svg\" alt=\"Open In Colab\"/></a>"
      ]
    },
    {
      "cell_type": "code",
      "metadata": {
        "id": "vPbNAOc7E3K_",
        "colab_type": "code",
        "colab": {}
      },
      "source": [
        "result=[]\n",
        "n=int(input())\n",
        "num=list(map(int,input().split()))\n",
        "def solution(n,num):            #재귀함수를 이용해서 결론 도출\n",
        "  dp= [0 for _ in range(n)]\n",
        "  for i in range(1,len(num)+1):\n",
        "    dp[i] = num[i-1] +dp[i-1]\n",
        "  dp1=dp[1:n]\n",
        "  if len(dp1)!=False:\n",
        "     #print(dp1)\n",
        "     result.append(max(dp1))\n",
        "  if len(num)==False:\n",
        "    return None\n",
        "  else:\n",
        "    num.pop(0)\n",
        "  return solution(n-1,num)\n",
        "\n",
        "solution(n+1,num)\n",
        "print(max(result))\n",
        "\n",
        "#하지만 데이터 시간초과로 x"
      ],
      "execution_count": 0,
      "outputs": []
    },
    {
      "cell_type": "code",
      "metadata": {
        "id": "yk2XyGrxFLsB",
        "colab_type": "code",
        "colab": {}
      },
      "source": [
        "n=int(input())\n",
        "a=list(map(int,input().split()))\n",
        "dp=[0 for i in range(n)]\n",
        "result =-1001\n",
        "for i in range(n):\n",
        "  dp[i]=max(a[i],dp[i-1]+a[i])   #for 문안에 최대값과 다음 값을 비교해 감\n",
        "  result=max(result,dp[i])      #max 값과 비교하면서 바로바로 바꿔줌\n",
        "print(result)\n",
        "#시간 초과 x"
      ],
      "execution_count": 0,
      "outputs": []
    }
  ]
}