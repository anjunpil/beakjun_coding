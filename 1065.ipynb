{
  "nbformat": 4,
  "nbformat_minor": 0,
  "metadata": {
    "colab": {
      "name": "1065",
      "provenance": [],
      "collapsed_sections": [],
      "authorship_tag": "ABX9TyPxsfQjA+lQ0m8ki7SuT6ue",
      "include_colab_link": true
    },
    "kernelspec": {
      "name": "python3",
      "display_name": "Python 3"
    }
  },
  "cells": [
    {
      "cell_type": "markdown",
      "metadata": {
        "id": "view-in-github",
        "colab_type": "text"
      },
      "source": [
        "<a href=\"https://colab.research.google.com/github/anjunpil/beakjun_coding/blob/master/1065.ipynb\" target=\"_parent\"><img src=\"https://colab.research.google.com/assets/colab-badge.svg\" alt=\"Open In Colab\"/></a>"
      ]
    },
    {
      "cell_type": "code",
      "metadata": {
        "id": "PhFGSl2XnauS",
        "colab_type": "code",
        "outputId": "a502bcd3-ff35-4d23-8e8f-5cf02d264302",
        "colab": {
          "base_uri": "https://localhost:8080/",
          "height": 53
        }
      },
      "source": [
        "n= int(input())\n",
        "count=0\n",
        "for i in range(1,n+1):\n",
        "  if i <100:\n",
        "    count+=1\n",
        "  else:\n",
        "    n=list(map(int,str(i)))\n",
        "    if  n[0]-n[1] == n[1]-n[2]:\n",
        "      count+=1\n",
        "print(count)  "
      ],
      "execution_count": 196,
      "outputs": [
        {
          "output_type": "stream",
          "text": [
            "110\n",
            "99\n"
          ],
          "name": "stdout"
        }
      ]
    }
  ]
}